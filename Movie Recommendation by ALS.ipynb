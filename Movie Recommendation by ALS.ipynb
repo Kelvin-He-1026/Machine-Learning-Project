{
  "nbformat": 4,
  "nbformat_minor": 0,
  "metadata": {
    "colab": {
      "name": "Spark HW2.ipynb",
      "provenance": [],
      "collapsed_sections": [],
      "toc_visible": true
    },
    "kernelspec": {
      "name": "python3",
      "display_name": "Python 3"
    }
  },
  "cells": [
    {
      "cell_type": "markdown",
      "metadata": {
        "id": "pLuIqzQHfZnU",
        "colab_type": "text"
      },
      "source": [
        "## Moive Recommendation"
      ]
    },
    {
      "cell_type": "markdown",
      "metadata": {
        "id": "2OSKbYW6l1m3",
        "colab_type": "text"
      },
      "source": [
        "## Motivation\n",
        "### In this notebook, we will use an Alternating Least Squares (ALS) algorithm with Spark APIs to predict the ratings for the movies in [MovieLens small dataset](https://grouplens.org/datasets/movielens/latest/)"
      ]
    },
    {
      "cell_type": "markdown",
      "metadata": {
        "id": "gaJZ_dTMmGv6",
        "colab_type": "text"
      },
      "source": [
        "## Step 1: Data ETL and Data Exploration Analysis\n",
        "### Get to know the data sets. Acknowledge the general information."
      ]
    },
    {
      "cell_type": "markdown",
      "metadata": {
        "id": "MlKjKa9amGin",
        "colab_type": "text"
      },
      "source": [
        "## Step 2: Training the ALS recommendation Model\n",
        "### Used CrossValidation methods to mind the best parameters for the model. Use RMSE to determine which one outperforms the others. Here are the metrics:\n",
        "#### RMSE = 0.8775583955068894\n",
        "#### Rank:8\n",
        "#### MaxIter:5\n",
        "#### RegParam:0.1"
      ]
    },
    {
      "cell_type": "markdown",
      "metadata": {
        "id": "3ge9HIxImQwn",
        "colab_type": "text"
      },
      "source": [
        "# Step 3: Use the best model to predict top 10 movies baed on users and item, seperately. "
      ]
    },
    {
      "cell_type": "markdown",
      "metadata": {
        "id": "ARyPHdzBmQn9",
        "colab_type": "text"
      },
      "source": [
        "# Step 4: Conclusion: \n",
        "### 1. The item based recommendation is more robust than user based. It is because users are more complicated than item. Users can have different tastes or even changeable. \n",
        "### 2. When recommendation similar movies, I used cosine similarity on item-features. It seems better than KNN, which tend to recommend top popular movies to every one. \n"
      ]
    },
    {
      "cell_type": "code",
      "metadata": {
        "id": "OCqAADMczQzE",
        "colab_type": "code",
        "colab": {
          "base_uri": "https://localhost:8080/",
          "height": 74
        },
        "outputId": "2a4892cd-5c6f-4c2d-cc75-bbafb0368eb9"
      },
      "source": [
        "import numpy as np\n",
        "import pandas as pd\n",
        "\n",
        "import seaborn as sns\n",
        "import matplotlib.pyplot as plt\n",
        "pd.set_option('display.float_format', lambda x: '%.3f' % x)\n",
        "pd.set_option('display.max_columns',None)\n",
        "pd.set_option('display.max_rows',None)\n",
        "pd.set_option('max_colwidth',100)\n"
      ],
      "execution_count": null,
      "outputs": [
        {
          "output_type": "stream",
          "text": [
            "/usr/local/lib/python3.6/dist-packages/statsmodels/tools/_testing.py:19: FutureWarning: pandas.util.testing is deprecated. Use the functions in the public API at pandas.testing instead.\n",
            "  import pandas.util.testing as tm\n"
          ],
          "name": "stderr"
        }
      ]
    },
    {
      "cell_type": "code",
      "metadata": {
        "id": "f_-EtCyhb18m",
        "colab_type": "code",
        "colab": {
          "base_uri": "https://localhost:8080/",
          "height": 131
        },
        "outputId": "3cd46a19-9b9d-43ce-9647-14f9df804993"
      },
      "source": [
        "from google.colab import drive\n",
        "drive.mount(\"/content/drive\")"
      ],
      "execution_count": null,
      "outputs": [
        {
          "output_type": "stream",
          "text": [
            "Go to this URL in a browser: https://accounts.google.com/o/oauth2/auth?client_id=947318989803-6bn6qk8qdgf4n4g3pfee6491hc0brc4i.apps.googleusercontent.com&redirect_uri=urn%3aietf%3awg%3aoauth%3a2.0%3aoob&response_type=code&scope=email%20https%3a%2f%2fwww.googleapis.com%2fauth%2fdocs.test%20https%3a%2f%2fwww.googleapis.com%2fauth%2fdrive%20https%3a%2f%2fwww.googleapis.com%2fauth%2fdrive.photos.readonly%20https%3a%2f%2fwww.googleapis.com%2fauth%2fpeopleapi.readonly\n",
            "\n",
            "Enter your authorization code:\n",
            "··········\n",
            "Mounted at /content/drive\n"
          ],
          "name": "stdout"
        }
      ]
    },
    {
      "cell_type": "code",
      "metadata": {
        "id": "srou4fdNzZsu",
        "colab_type": "code",
        "colab": {}
      },
      "source": [
        "links = pd.read_csv(\"/content/drive/My Drive/Data/links.csv\")\n",
        "movies = pd.read_csv('/content/drive/My Drive/Data/movies.csv')\n",
        "ratings = pd.read_csv('/content/drive/My Drive/Data/ratings.csv')\n",
        "tags = pd.read_csv('/content/drive/My Drive/Data/tags.csv')"
      ],
      "execution_count": null,
      "outputs": []
    },
    {
      "cell_type": "code",
      "metadata": {
        "id": "lEvGbjkPztz1",
        "colab_type": "code",
        "colab": {
          "base_uri": "https://localhost:8080/",
          "height": 206
        },
        "outputId": "60bd4bf1-4978-4f63-9d64-899185f79efc"
      },
      "source": [
        "links.head()"
      ],
      "execution_count": null,
      "outputs": [
        {
          "output_type": "execute_result",
          "data": {
            "text/html": [
              "<div>\n",
              "<style scoped>\n",
              "    .dataframe tbody tr th:only-of-type {\n",
              "        vertical-align: middle;\n",
              "    }\n",
              "\n",
              "    .dataframe tbody tr th {\n",
              "        vertical-align: top;\n",
              "    }\n",
              "\n",
              "    .dataframe thead th {\n",
              "        text-align: right;\n",
              "    }\n",
              "</style>\n",
              "<table border=\"1\" class=\"dataframe\">\n",
              "  <thead>\n",
              "    <tr style=\"text-align: right;\">\n",
              "      <th></th>\n",
              "      <th>movieId</th>\n",
              "      <th>imdbId</th>\n",
              "      <th>tmdbId</th>\n",
              "    </tr>\n",
              "  </thead>\n",
              "  <tbody>\n",
              "    <tr>\n",
              "      <th>0</th>\n",
              "      <td>1</td>\n",
              "      <td>114709</td>\n",
              "      <td>862.000</td>\n",
              "    </tr>\n",
              "    <tr>\n",
              "      <th>1</th>\n",
              "      <td>2</td>\n",
              "      <td>113497</td>\n",
              "      <td>8844.000</td>\n",
              "    </tr>\n",
              "    <tr>\n",
              "      <th>2</th>\n",
              "      <td>3</td>\n",
              "      <td>113228</td>\n",
              "      <td>15602.000</td>\n",
              "    </tr>\n",
              "    <tr>\n",
              "      <th>3</th>\n",
              "      <td>4</td>\n",
              "      <td>114885</td>\n",
              "      <td>31357.000</td>\n",
              "    </tr>\n",
              "    <tr>\n",
              "      <th>4</th>\n",
              "      <td>5</td>\n",
              "      <td>113041</td>\n",
              "      <td>11862.000</td>\n",
              "    </tr>\n",
              "  </tbody>\n",
              "</table>\n",
              "</div>"
            ],
            "text/plain": [
              "   movieId  imdbId    tmdbId\n",
              "0        1  114709   862.000\n",
              "1        2  113497  8844.000\n",
              "2        3  113228 15602.000\n",
              "3        4  114885 31357.000\n",
              "4        5  113041 11862.000"
            ]
          },
          "metadata": {
            "tags": []
          },
          "execution_count": 4
        }
      ]
    },
    {
      "cell_type": "code",
      "metadata": {
        "id": "ALvQ-6tlz1bU",
        "colab_type": "code",
        "colab": {
          "base_uri": "https://localhost:8080/",
          "height": 204
        },
        "outputId": "3f8e9d12-546d-4add-96ff-105aca4b7201"
      },
      "source": [
        "links.info()"
      ],
      "execution_count": null,
      "outputs": [
        {
          "output_type": "stream",
          "text": [
            "<class 'pandas.core.frame.DataFrame'>\n",
            "RangeIndex: 9742 entries, 0 to 9741\n",
            "Data columns (total 3 columns):\n",
            " #   Column   Non-Null Count  Dtype  \n",
            "---  ------   --------------  -----  \n",
            " 0   movieId  9742 non-null   int64  \n",
            " 1   imdbId   9742 non-null   int64  \n",
            " 2   tmdbId   9734 non-null   float64\n",
            "dtypes: float64(1), int64(2)\n",
            "memory usage: 228.5 KB\n"
          ],
          "name": "stdout"
        }
      ]
    },
    {
      "cell_type": "code",
      "metadata": {
        "id": "28QEJzhu0S5i",
        "colab_type": "code",
        "colab": {
          "base_uri": "https://localhost:8080/",
          "height": 206
        },
        "outputId": "77916063-afd6-4d5d-d43f-0db07a61095a"
      },
      "source": [
        "movies.head()"
      ],
      "execution_count": null,
      "outputs": [
        {
          "output_type": "execute_result",
          "data": {
            "text/html": [
              "<div>\n",
              "<style scoped>\n",
              "    .dataframe tbody tr th:only-of-type {\n",
              "        vertical-align: middle;\n",
              "    }\n",
              "\n",
              "    .dataframe tbody tr th {\n",
              "        vertical-align: top;\n",
              "    }\n",
              "\n",
              "    .dataframe thead th {\n",
              "        text-align: right;\n",
              "    }\n",
              "</style>\n",
              "<table border=\"1\" class=\"dataframe\">\n",
              "  <thead>\n",
              "    <tr style=\"text-align: right;\">\n",
              "      <th></th>\n",
              "      <th>movieId</th>\n",
              "      <th>title</th>\n",
              "      <th>genres</th>\n",
              "    </tr>\n",
              "  </thead>\n",
              "  <tbody>\n",
              "    <tr>\n",
              "      <th>0</th>\n",
              "      <td>1</td>\n",
              "      <td>Toy Story (1995)</td>\n",
              "      <td>Adventure|Animation|Children|Comedy|Fantasy</td>\n",
              "    </tr>\n",
              "    <tr>\n",
              "      <th>1</th>\n",
              "      <td>2</td>\n",
              "      <td>Jumanji (1995)</td>\n",
              "      <td>Adventure|Children|Fantasy</td>\n",
              "    </tr>\n",
              "    <tr>\n",
              "      <th>2</th>\n",
              "      <td>3</td>\n",
              "      <td>Grumpier Old Men (1995)</td>\n",
              "      <td>Comedy|Romance</td>\n",
              "    </tr>\n",
              "    <tr>\n",
              "      <th>3</th>\n",
              "      <td>4</td>\n",
              "      <td>Waiting to Exhale (1995)</td>\n",
              "      <td>Comedy|Drama|Romance</td>\n",
              "    </tr>\n",
              "    <tr>\n",
              "      <th>4</th>\n",
              "      <td>5</td>\n",
              "      <td>Father of the Bride Part II (1995)</td>\n",
              "      <td>Comedy</td>\n",
              "    </tr>\n",
              "  </tbody>\n",
              "</table>\n",
              "</div>"
            ],
            "text/plain": [
              "   movieId                               title  \\\n",
              "0        1                    Toy Story (1995)   \n",
              "1        2                      Jumanji (1995)   \n",
              "2        3             Grumpier Old Men (1995)   \n",
              "3        4            Waiting to Exhale (1995)   \n",
              "4        5  Father of the Bride Part II (1995)   \n",
              "\n",
              "                                        genres  \n",
              "0  Adventure|Animation|Children|Comedy|Fantasy  \n",
              "1                   Adventure|Children|Fantasy  \n",
              "2                               Comedy|Romance  \n",
              "3                         Comedy|Drama|Romance  \n",
              "4                                       Comedy  "
            ]
          },
          "metadata": {
            "tags": []
          },
          "execution_count": 6
        }
      ]
    },
    {
      "cell_type": "code",
      "metadata": {
        "id": "KbzcXftk08nV",
        "colab_type": "code",
        "colab": {
          "base_uri": "https://localhost:8080/",
          "height": 204
        },
        "outputId": "9d0e518c-b598-4366-aa96-6e4d9d9e5bf2"
      },
      "source": [
        "movies.info()"
      ],
      "execution_count": null,
      "outputs": [
        {
          "output_type": "stream",
          "text": [
            "<class 'pandas.core.frame.DataFrame'>\n",
            "RangeIndex: 9742 entries, 0 to 9741\n",
            "Data columns (total 3 columns):\n",
            " #   Column   Non-Null Count  Dtype \n",
            "---  ------   --------------  ----- \n",
            " 0   movieId  9742 non-null   int64 \n",
            " 1   title    9742 non-null   object\n",
            " 2   genres   9742 non-null   object\n",
            "dtypes: int64(1), object(2)\n",
            "memory usage: 228.5+ KB\n"
          ],
          "name": "stdout"
        }
      ]
    },
    {
      "cell_type": "code",
      "metadata": {
        "id": "t-RfwaHl1Ak2",
        "colab_type": "code",
        "colab": {
          "base_uri": "https://localhost:8080/",
          "height": 206
        },
        "outputId": "5af85ced-09ae-4c39-9e92-2f910b7e63c9"
      },
      "source": [
        "ratings.head()"
      ],
      "execution_count": null,
      "outputs": [
        {
          "output_type": "execute_result",
          "data": {
            "text/html": [
              "<div>\n",
              "<style scoped>\n",
              "    .dataframe tbody tr th:only-of-type {\n",
              "        vertical-align: middle;\n",
              "    }\n",
              "\n",
              "    .dataframe tbody tr th {\n",
              "        vertical-align: top;\n",
              "    }\n",
              "\n",
              "    .dataframe thead th {\n",
              "        text-align: right;\n",
              "    }\n",
              "</style>\n",
              "<table border=\"1\" class=\"dataframe\">\n",
              "  <thead>\n",
              "    <tr style=\"text-align: right;\">\n",
              "      <th></th>\n",
              "      <th>userId</th>\n",
              "      <th>movieId</th>\n",
              "      <th>rating</th>\n",
              "      <th>timestamp</th>\n",
              "    </tr>\n",
              "  </thead>\n",
              "  <tbody>\n",
              "    <tr>\n",
              "      <th>0</th>\n",
              "      <td>1</td>\n",
              "      <td>1</td>\n",
              "      <td>4.000</td>\n",
              "      <td>964982703</td>\n",
              "    </tr>\n",
              "    <tr>\n",
              "      <th>1</th>\n",
              "      <td>1</td>\n",
              "      <td>3</td>\n",
              "      <td>4.000</td>\n",
              "      <td>964981247</td>\n",
              "    </tr>\n",
              "    <tr>\n",
              "      <th>2</th>\n",
              "      <td>1</td>\n",
              "      <td>6</td>\n",
              "      <td>4.000</td>\n",
              "      <td>964982224</td>\n",
              "    </tr>\n",
              "    <tr>\n",
              "      <th>3</th>\n",
              "      <td>1</td>\n",
              "      <td>47</td>\n",
              "      <td>5.000</td>\n",
              "      <td>964983815</td>\n",
              "    </tr>\n",
              "    <tr>\n",
              "      <th>4</th>\n",
              "      <td>1</td>\n",
              "      <td>50</td>\n",
              "      <td>5.000</td>\n",
              "      <td>964982931</td>\n",
              "    </tr>\n",
              "  </tbody>\n",
              "</table>\n",
              "</div>"
            ],
            "text/plain": [
              "   userId  movieId  rating  timestamp\n",
              "0       1        1   4.000  964982703\n",
              "1       1        3   4.000  964981247\n",
              "2       1        6   4.000  964982224\n",
              "3       1       47   5.000  964983815\n",
              "4       1       50   5.000  964982931"
            ]
          },
          "metadata": {
            "tags": []
          },
          "execution_count": 8
        }
      ]
    },
    {
      "cell_type": "code",
      "metadata": {
        "id": "ju-9hqPf1Gvh",
        "colab_type": "code",
        "colab": {
          "base_uri": "https://localhost:8080/",
          "height": 223
        },
        "outputId": "5d134bd6-3080-4c75-e811-d19d718cc165"
      },
      "source": [
        "ratings.info()"
      ],
      "execution_count": null,
      "outputs": [
        {
          "output_type": "stream",
          "text": [
            "<class 'pandas.core.frame.DataFrame'>\n",
            "RangeIndex: 100836 entries, 0 to 100835\n",
            "Data columns (total 4 columns):\n",
            " #   Column     Non-Null Count   Dtype  \n",
            "---  ------     --------------   -----  \n",
            " 0   userId     100836 non-null  int64  \n",
            " 1   movieId    100836 non-null  int64  \n",
            " 2   rating     100836 non-null  float64\n",
            " 3   timestamp  100836 non-null  int64  \n",
            "dtypes: float64(1), int64(3)\n",
            "memory usage: 3.1 MB\n"
          ],
          "name": "stdout"
        }
      ]
    },
    {
      "cell_type": "code",
      "metadata": {
        "id": "9cs587jq1JPx",
        "colab_type": "code",
        "colab": {
          "base_uri": "https://localhost:8080/",
          "height": 206
        },
        "outputId": "aec691c7-c898-4779-b456-4c518545fcbf"
      },
      "source": [
        "tags.head()"
      ],
      "execution_count": null,
      "outputs": [
        {
          "output_type": "execute_result",
          "data": {
            "text/html": [
              "<div>\n",
              "<style scoped>\n",
              "    .dataframe tbody tr th:only-of-type {\n",
              "        vertical-align: middle;\n",
              "    }\n",
              "\n",
              "    .dataframe tbody tr th {\n",
              "        vertical-align: top;\n",
              "    }\n",
              "\n",
              "    .dataframe thead th {\n",
              "        text-align: right;\n",
              "    }\n",
              "</style>\n",
              "<table border=\"1\" class=\"dataframe\">\n",
              "  <thead>\n",
              "    <tr style=\"text-align: right;\">\n",
              "      <th></th>\n",
              "      <th>userId</th>\n",
              "      <th>movieId</th>\n",
              "      <th>tag</th>\n",
              "      <th>timestamp</th>\n",
              "    </tr>\n",
              "  </thead>\n",
              "  <tbody>\n",
              "    <tr>\n",
              "      <th>0</th>\n",
              "      <td>2</td>\n",
              "      <td>60756</td>\n",
              "      <td>funny</td>\n",
              "      <td>1445714994</td>\n",
              "    </tr>\n",
              "    <tr>\n",
              "      <th>1</th>\n",
              "      <td>2</td>\n",
              "      <td>60756</td>\n",
              "      <td>Highly quotable</td>\n",
              "      <td>1445714996</td>\n",
              "    </tr>\n",
              "    <tr>\n",
              "      <th>2</th>\n",
              "      <td>2</td>\n",
              "      <td>60756</td>\n",
              "      <td>will ferrell</td>\n",
              "      <td>1445714992</td>\n",
              "    </tr>\n",
              "    <tr>\n",
              "      <th>3</th>\n",
              "      <td>2</td>\n",
              "      <td>89774</td>\n",
              "      <td>Boxing story</td>\n",
              "      <td>1445715207</td>\n",
              "    </tr>\n",
              "    <tr>\n",
              "      <th>4</th>\n",
              "      <td>2</td>\n",
              "      <td>89774</td>\n",
              "      <td>MMA</td>\n",
              "      <td>1445715200</td>\n",
              "    </tr>\n",
              "  </tbody>\n",
              "</table>\n",
              "</div>"
            ],
            "text/plain": [
              "   userId  movieId              tag   timestamp\n",
              "0       2    60756            funny  1445714994\n",
              "1       2    60756  Highly quotable  1445714996\n",
              "2       2    60756     will ferrell  1445714992\n",
              "3       2    89774     Boxing story  1445715207\n",
              "4       2    89774              MMA  1445715200"
            ]
          },
          "metadata": {
            "tags": []
          },
          "execution_count": 10
        }
      ]
    },
    {
      "cell_type": "code",
      "metadata": {
        "id": "Oy73xwIq1Luy",
        "colab_type": "code",
        "colab": {
          "base_uri": "https://localhost:8080/",
          "height": 223
        },
        "outputId": "53a2d069-5b99-4537-ee98-cf178dbef665"
      },
      "source": [
        "tags.info()"
      ],
      "execution_count": null,
      "outputs": [
        {
          "output_type": "stream",
          "text": [
            "<class 'pandas.core.frame.DataFrame'>\n",
            "RangeIndex: 3683 entries, 0 to 3682\n",
            "Data columns (total 4 columns):\n",
            " #   Column     Non-Null Count  Dtype \n",
            "---  ------     --------------  ----- \n",
            " 0   userId     3683 non-null   int64 \n",
            " 1   movieId    3683 non-null   int64 \n",
            " 2   tag        3683 non-null   object\n",
            " 3   timestamp  3683 non-null   int64 \n",
            "dtypes: int64(3), object(1)\n",
            "memory usage: 115.2+ KB\n"
          ],
          "name": "stdout"
        }
      ]
    },
    {
      "cell_type": "code",
      "metadata": {
        "id": "ciWVAvLY1M1G",
        "colab_type": "code",
        "colab": {}
      },
      "source": [
        "ratings['date'] = pd.to_datetime(ratings['timestamp'], unit = 's')\n",
        "ratings['rating date'] = ratings['date'].dt.date"
      ],
      "execution_count": null,
      "outputs": []
    },
    {
      "cell_type": "code",
      "metadata": {
        "id": "8n1A6qFN7Ukx",
        "colab_type": "code",
        "colab": {
          "base_uri": "https://localhost:8080/",
          "height": 206
        },
        "outputId": "6b29160e-47fc-4e30-db21-fbb95efea373"
      },
      "source": [
        "ratings.head()"
      ],
      "execution_count": null,
      "outputs": [
        {
          "output_type": "execute_result",
          "data": {
            "text/html": [
              "<div>\n",
              "<style scoped>\n",
              "    .dataframe tbody tr th:only-of-type {\n",
              "        vertical-align: middle;\n",
              "    }\n",
              "\n",
              "    .dataframe tbody tr th {\n",
              "        vertical-align: top;\n",
              "    }\n",
              "\n",
              "    .dataframe thead th {\n",
              "        text-align: right;\n",
              "    }\n",
              "</style>\n",
              "<table border=\"1\" class=\"dataframe\">\n",
              "  <thead>\n",
              "    <tr style=\"text-align: right;\">\n",
              "      <th></th>\n",
              "      <th>userId</th>\n",
              "      <th>movieId</th>\n",
              "      <th>rating</th>\n",
              "      <th>timestamp</th>\n",
              "      <th>date</th>\n",
              "      <th>rating date</th>\n",
              "    </tr>\n",
              "  </thead>\n",
              "  <tbody>\n",
              "    <tr>\n",
              "      <th>0</th>\n",
              "      <td>1</td>\n",
              "      <td>1</td>\n",
              "      <td>4.000</td>\n",
              "      <td>964982703</td>\n",
              "      <td>2000-07-30 18:45:03</td>\n",
              "      <td>2000-07-30</td>\n",
              "    </tr>\n",
              "    <tr>\n",
              "      <th>1</th>\n",
              "      <td>1</td>\n",
              "      <td>3</td>\n",
              "      <td>4.000</td>\n",
              "      <td>964981247</td>\n",
              "      <td>2000-07-30 18:20:47</td>\n",
              "      <td>2000-07-30</td>\n",
              "    </tr>\n",
              "    <tr>\n",
              "      <th>2</th>\n",
              "      <td>1</td>\n",
              "      <td>6</td>\n",
              "      <td>4.000</td>\n",
              "      <td>964982224</td>\n",
              "      <td>2000-07-30 18:37:04</td>\n",
              "      <td>2000-07-30</td>\n",
              "    </tr>\n",
              "    <tr>\n",
              "      <th>3</th>\n",
              "      <td>1</td>\n",
              "      <td>47</td>\n",
              "      <td>5.000</td>\n",
              "      <td>964983815</td>\n",
              "      <td>2000-07-30 19:03:35</td>\n",
              "      <td>2000-07-30</td>\n",
              "    </tr>\n",
              "    <tr>\n",
              "      <th>4</th>\n",
              "      <td>1</td>\n",
              "      <td>50</td>\n",
              "      <td>5.000</td>\n",
              "      <td>964982931</td>\n",
              "      <td>2000-07-30 18:48:51</td>\n",
              "      <td>2000-07-30</td>\n",
              "    </tr>\n",
              "  </tbody>\n",
              "</table>\n",
              "</div>"
            ],
            "text/plain": [
              "   userId  movieId  rating  timestamp                date rating date\n",
              "0       1        1   4.000  964982703 2000-07-30 18:45:03  2000-07-30\n",
              "1       1        3   4.000  964981247 2000-07-30 18:20:47  2000-07-30\n",
              "2       1        6   4.000  964982224 2000-07-30 18:37:04  2000-07-30\n",
              "3       1       47   5.000  964983815 2000-07-30 19:03:35  2000-07-30\n",
              "4       1       50   5.000  964982931 2000-07-30 18:48:51  2000-07-30"
            ]
          },
          "metadata": {
            "tags": []
          },
          "execution_count": 13
        }
      ]
    },
    {
      "cell_type": "code",
      "metadata": {
        "id": "s3rmf2qr_YvP",
        "colab_type": "code",
        "colab": {}
      },
      "source": [
        "tags['date'] = pd.to_datetime(tags['timestamp'], unit = 's')\n",
        "tags['tag date'] = tags['date'].dt.date"
      ],
      "execution_count": null,
      "outputs": []
    },
    {
      "cell_type": "code",
      "metadata": {
        "id": "psNbeOdO_6-Y",
        "colab_type": "code",
        "colab": {
          "base_uri": "https://localhost:8080/",
          "height": 206
        },
        "outputId": "e6d2785d-13a7-4ef7-e253-e3d820c0c20c"
      },
      "source": [
        "tags.head()"
      ],
      "execution_count": null,
      "outputs": [
        {
          "output_type": "execute_result",
          "data": {
            "text/html": [
              "<div>\n",
              "<style scoped>\n",
              "    .dataframe tbody tr th:only-of-type {\n",
              "        vertical-align: middle;\n",
              "    }\n",
              "\n",
              "    .dataframe tbody tr th {\n",
              "        vertical-align: top;\n",
              "    }\n",
              "\n",
              "    .dataframe thead th {\n",
              "        text-align: right;\n",
              "    }\n",
              "</style>\n",
              "<table border=\"1\" class=\"dataframe\">\n",
              "  <thead>\n",
              "    <tr style=\"text-align: right;\">\n",
              "      <th></th>\n",
              "      <th>userId</th>\n",
              "      <th>movieId</th>\n",
              "      <th>tag</th>\n",
              "      <th>timestamp</th>\n",
              "      <th>date</th>\n",
              "      <th>tag date</th>\n",
              "    </tr>\n",
              "  </thead>\n",
              "  <tbody>\n",
              "    <tr>\n",
              "      <th>0</th>\n",
              "      <td>2</td>\n",
              "      <td>60756</td>\n",
              "      <td>funny</td>\n",
              "      <td>1445714994</td>\n",
              "      <td>2015-10-24 19:29:54</td>\n",
              "      <td>2015-10-24</td>\n",
              "    </tr>\n",
              "    <tr>\n",
              "      <th>1</th>\n",
              "      <td>2</td>\n",
              "      <td>60756</td>\n",
              "      <td>Highly quotable</td>\n",
              "      <td>1445714996</td>\n",
              "      <td>2015-10-24 19:29:56</td>\n",
              "      <td>2015-10-24</td>\n",
              "    </tr>\n",
              "    <tr>\n",
              "      <th>2</th>\n",
              "      <td>2</td>\n",
              "      <td>60756</td>\n",
              "      <td>will ferrell</td>\n",
              "      <td>1445714992</td>\n",
              "      <td>2015-10-24 19:29:52</td>\n",
              "      <td>2015-10-24</td>\n",
              "    </tr>\n",
              "    <tr>\n",
              "      <th>3</th>\n",
              "      <td>2</td>\n",
              "      <td>89774</td>\n",
              "      <td>Boxing story</td>\n",
              "      <td>1445715207</td>\n",
              "      <td>2015-10-24 19:33:27</td>\n",
              "      <td>2015-10-24</td>\n",
              "    </tr>\n",
              "    <tr>\n",
              "      <th>4</th>\n",
              "      <td>2</td>\n",
              "      <td>89774</td>\n",
              "      <td>MMA</td>\n",
              "      <td>1445715200</td>\n",
              "      <td>2015-10-24 19:33:20</td>\n",
              "      <td>2015-10-24</td>\n",
              "    </tr>\n",
              "  </tbody>\n",
              "</table>\n",
              "</div>"
            ],
            "text/plain": [
              "   userId  movieId              tag   timestamp                date  \\\n",
              "0       2    60756            funny  1445714994 2015-10-24 19:29:54   \n",
              "1       2    60756  Highly quotable  1445714996 2015-10-24 19:29:56   \n",
              "2       2    60756     will ferrell  1445714992 2015-10-24 19:29:52   \n",
              "3       2    89774     Boxing story  1445715207 2015-10-24 19:33:27   \n",
              "4       2    89774              MMA  1445715200 2015-10-24 19:33:20   \n",
              "\n",
              "     tag date  \n",
              "0  2015-10-24  \n",
              "1  2015-10-24  \n",
              "2  2015-10-24  \n",
              "3  2015-10-24  \n",
              "4  2015-10-24  "
            ]
          },
          "metadata": {
            "tags": []
          },
          "execution_count": 15
        }
      ]
    },
    {
      "cell_type": "code",
      "metadata": {
        "id": "hFarqRSUOQot",
        "colab_type": "code",
        "colab": {}
      },
      "source": [
        "ratings_movies = pd.merge(movies, ratings, how = 'left', on = 'movieId')\n",
        "combined = pd.merge(ratings_movies, tags, how = 'left', on = ['userId', 'movieId'])"
      ],
      "execution_count": null,
      "outputs": []
    },
    {
      "cell_type": "code",
      "metadata": {
        "id": "-5M9WOlkjC53",
        "colab_type": "code",
        "colab": {
          "base_uri": "https://localhost:8080/",
          "height": 417
        },
        "outputId": "911c45a4-848f-4cf0-f545-c17e7f8d7468"
      },
      "source": [
        "combined.head()"
      ],
      "execution_count": null,
      "outputs": [
        {
          "output_type": "execute_result",
          "data": {
            "text/html": [
              "<div>\n",
              "<style scoped>\n",
              "    .dataframe tbody tr th:only-of-type {\n",
              "        vertical-align: middle;\n",
              "    }\n",
              "\n",
              "    .dataframe tbody tr th {\n",
              "        vertical-align: top;\n",
              "    }\n",
              "\n",
              "    .dataframe thead th {\n",
              "        text-align: right;\n",
              "    }\n",
              "</style>\n",
              "<table border=\"1\" class=\"dataframe\">\n",
              "  <thead>\n",
              "    <tr style=\"text-align: right;\">\n",
              "      <th></th>\n",
              "      <th>movieId</th>\n",
              "      <th>title</th>\n",
              "      <th>genres</th>\n",
              "      <th>userId</th>\n",
              "      <th>rating</th>\n",
              "      <th>timestamp_x</th>\n",
              "      <th>date_x</th>\n",
              "      <th>rating date</th>\n",
              "      <th>tag</th>\n",
              "      <th>timestamp_y</th>\n",
              "      <th>date_y</th>\n",
              "      <th>tag date</th>\n",
              "    </tr>\n",
              "  </thead>\n",
              "  <tbody>\n",
              "    <tr>\n",
              "      <th>0</th>\n",
              "      <td>1</td>\n",
              "      <td>Toy Story (1995)</td>\n",
              "      <td>Adventure|Animation|Children|Comedy|Fantasy</td>\n",
              "      <td>1.000</td>\n",
              "      <td>4.000</td>\n",
              "      <td>964982703.000</td>\n",
              "      <td>2000-07-30 18:45:03</td>\n",
              "      <td>2000-07-30</td>\n",
              "      <td>NaN</td>\n",
              "      <td>nan</td>\n",
              "      <td>NaT</td>\n",
              "      <td>NaN</td>\n",
              "    </tr>\n",
              "    <tr>\n",
              "      <th>1</th>\n",
              "      <td>1</td>\n",
              "      <td>Toy Story (1995)</td>\n",
              "      <td>Adventure|Animation|Children|Comedy|Fantasy</td>\n",
              "      <td>5.000</td>\n",
              "      <td>4.000</td>\n",
              "      <td>847434962.000</td>\n",
              "      <td>1996-11-08 06:36:02</td>\n",
              "      <td>1996-11-08</td>\n",
              "      <td>NaN</td>\n",
              "      <td>nan</td>\n",
              "      <td>NaT</td>\n",
              "      <td>NaN</td>\n",
              "    </tr>\n",
              "    <tr>\n",
              "      <th>2</th>\n",
              "      <td>1</td>\n",
              "      <td>Toy Story (1995)</td>\n",
              "      <td>Adventure|Animation|Children|Comedy|Fantasy</td>\n",
              "      <td>7.000</td>\n",
              "      <td>4.500</td>\n",
              "      <td>1106635946.000</td>\n",
              "      <td>2005-01-25 06:52:26</td>\n",
              "      <td>2005-01-25</td>\n",
              "      <td>NaN</td>\n",
              "      <td>nan</td>\n",
              "      <td>NaT</td>\n",
              "      <td>NaN</td>\n",
              "    </tr>\n",
              "    <tr>\n",
              "      <th>3</th>\n",
              "      <td>1</td>\n",
              "      <td>Toy Story (1995)</td>\n",
              "      <td>Adventure|Animation|Children|Comedy|Fantasy</td>\n",
              "      <td>15.000</td>\n",
              "      <td>2.500</td>\n",
              "      <td>1510577970.000</td>\n",
              "      <td>2017-11-13 12:59:30</td>\n",
              "      <td>2017-11-13</td>\n",
              "      <td>NaN</td>\n",
              "      <td>nan</td>\n",
              "      <td>NaT</td>\n",
              "      <td>NaN</td>\n",
              "    </tr>\n",
              "    <tr>\n",
              "      <th>4</th>\n",
              "      <td>1</td>\n",
              "      <td>Toy Story (1995)</td>\n",
              "      <td>Adventure|Animation|Children|Comedy|Fantasy</td>\n",
              "      <td>17.000</td>\n",
              "      <td>4.500</td>\n",
              "      <td>1305696483.000</td>\n",
              "      <td>2011-05-18 05:28:03</td>\n",
              "      <td>2011-05-18</td>\n",
              "      <td>NaN</td>\n",
              "      <td>nan</td>\n",
              "      <td>NaT</td>\n",
              "      <td>NaN</td>\n",
              "    </tr>\n",
              "  </tbody>\n",
              "</table>\n",
              "</div>"
            ],
            "text/plain": [
              "   movieId             title                                       genres  \\\n",
              "0        1  Toy Story (1995)  Adventure|Animation|Children|Comedy|Fantasy   \n",
              "1        1  Toy Story (1995)  Adventure|Animation|Children|Comedy|Fantasy   \n",
              "2        1  Toy Story (1995)  Adventure|Animation|Children|Comedy|Fantasy   \n",
              "3        1  Toy Story (1995)  Adventure|Animation|Children|Comedy|Fantasy   \n",
              "4        1  Toy Story (1995)  Adventure|Animation|Children|Comedy|Fantasy   \n",
              "\n",
              "   userId  rating    timestamp_x              date_x rating date  tag  \\\n",
              "0   1.000   4.000  964982703.000 2000-07-30 18:45:03  2000-07-30  NaN   \n",
              "1   5.000   4.000  847434962.000 1996-11-08 06:36:02  1996-11-08  NaN   \n",
              "2   7.000   4.500 1106635946.000 2005-01-25 06:52:26  2005-01-25  NaN   \n",
              "3  15.000   2.500 1510577970.000 2017-11-13 12:59:30  2017-11-13  NaN   \n",
              "4  17.000   4.500 1305696483.000 2011-05-18 05:28:03  2011-05-18  NaN   \n",
              "\n",
              "   timestamp_y date_y tag date  \n",
              "0          nan    NaT      NaN  \n",
              "1          nan    NaT      NaN  \n",
              "2          nan    NaT      NaN  \n",
              "3          nan    NaT      NaN  \n",
              "4          nan    NaT      NaN  "
            ]
          },
          "metadata": {
            "tags": []
          },
          "execution_count": 17
        }
      ]
    },
    {
      "cell_type": "markdown",
      "metadata": {
        "id": "yRalMljNOFkY",
        "colab_type": "text"
      },
      "source": [
        "# Part1: Data ETL and Data Exploration"
      ]
    },
    {
      "cell_type": "code",
      "metadata": {
        "id": "uszPoU-Od4MQ",
        "colab_type": "code",
        "colab": {}
      },
      "source": [
        "#combined = combined.sort_values(by = 'userId').reset_index()\n",
        "data = combined.drop([ 'timestamp_x', 'date_x','timestamp_y', 'date_y'], axis = 1)"
      ],
      "execution_count": null,
      "outputs": []
    },
    {
      "cell_type": "code",
      "metadata": {
        "id": "S7vgscjqcgtr",
        "colab_type": "code",
        "colab": {
          "base_uri": "https://localhost:8080/",
          "height": 310
        },
        "outputId": "b766956c-dfb7-419a-b6ff-320b5799641e"
      },
      "source": [
        "data.head()"
      ],
      "execution_count": null,
      "outputs": [
        {
          "output_type": "execute_result",
          "data": {
            "text/html": [
              "<div>\n",
              "<style scoped>\n",
              "    .dataframe tbody tr th:only-of-type {\n",
              "        vertical-align: middle;\n",
              "    }\n",
              "\n",
              "    .dataframe tbody tr th {\n",
              "        vertical-align: top;\n",
              "    }\n",
              "\n",
              "    .dataframe thead th {\n",
              "        text-align: right;\n",
              "    }\n",
              "</style>\n",
              "<table border=\"1\" class=\"dataframe\">\n",
              "  <thead>\n",
              "    <tr style=\"text-align: right;\">\n",
              "      <th></th>\n",
              "      <th>movieId</th>\n",
              "      <th>title</th>\n",
              "      <th>genres</th>\n",
              "      <th>userId</th>\n",
              "      <th>rating</th>\n",
              "      <th>rating date</th>\n",
              "      <th>tag</th>\n",
              "      <th>tag date</th>\n",
              "    </tr>\n",
              "  </thead>\n",
              "  <tbody>\n",
              "    <tr>\n",
              "      <th>0</th>\n",
              "      <td>1</td>\n",
              "      <td>Toy Story (1995)</td>\n",
              "      <td>Adventure|Animation|Children|Comedy|Fantasy</td>\n",
              "      <td>1.000</td>\n",
              "      <td>4.000</td>\n",
              "      <td>2000-07-30</td>\n",
              "      <td>NaN</td>\n",
              "      <td>NaN</td>\n",
              "    </tr>\n",
              "    <tr>\n",
              "      <th>1</th>\n",
              "      <td>1</td>\n",
              "      <td>Toy Story (1995)</td>\n",
              "      <td>Adventure|Animation|Children|Comedy|Fantasy</td>\n",
              "      <td>5.000</td>\n",
              "      <td>4.000</td>\n",
              "      <td>1996-11-08</td>\n",
              "      <td>NaN</td>\n",
              "      <td>NaN</td>\n",
              "    </tr>\n",
              "    <tr>\n",
              "      <th>2</th>\n",
              "      <td>1</td>\n",
              "      <td>Toy Story (1995)</td>\n",
              "      <td>Adventure|Animation|Children|Comedy|Fantasy</td>\n",
              "      <td>7.000</td>\n",
              "      <td>4.500</td>\n",
              "      <td>2005-01-25</td>\n",
              "      <td>NaN</td>\n",
              "      <td>NaN</td>\n",
              "    </tr>\n",
              "    <tr>\n",
              "      <th>3</th>\n",
              "      <td>1</td>\n",
              "      <td>Toy Story (1995)</td>\n",
              "      <td>Adventure|Animation|Children|Comedy|Fantasy</td>\n",
              "      <td>15.000</td>\n",
              "      <td>2.500</td>\n",
              "      <td>2017-11-13</td>\n",
              "      <td>NaN</td>\n",
              "      <td>NaN</td>\n",
              "    </tr>\n",
              "    <tr>\n",
              "      <th>4</th>\n",
              "      <td>1</td>\n",
              "      <td>Toy Story (1995)</td>\n",
              "      <td>Adventure|Animation|Children|Comedy|Fantasy</td>\n",
              "      <td>17.000</td>\n",
              "      <td>4.500</td>\n",
              "      <td>2011-05-18</td>\n",
              "      <td>NaN</td>\n",
              "      <td>NaN</td>\n",
              "    </tr>\n",
              "  </tbody>\n",
              "</table>\n",
              "</div>"
            ],
            "text/plain": [
              "   movieId             title                                       genres  \\\n",
              "0        1  Toy Story (1995)  Adventure|Animation|Children|Comedy|Fantasy   \n",
              "1        1  Toy Story (1995)  Adventure|Animation|Children|Comedy|Fantasy   \n",
              "2        1  Toy Story (1995)  Adventure|Animation|Children|Comedy|Fantasy   \n",
              "3        1  Toy Story (1995)  Adventure|Animation|Children|Comedy|Fantasy   \n",
              "4        1  Toy Story (1995)  Adventure|Animation|Children|Comedy|Fantasy   \n",
              "\n",
              "   userId  rating rating date  tag tag date  \n",
              "0   1.000   4.000  2000-07-30  NaN      NaN  \n",
              "1   5.000   4.000  1996-11-08  NaN      NaN  \n",
              "2   7.000   4.500  2005-01-25  NaN      NaN  \n",
              "3  15.000   2.500  2017-11-13  NaN      NaN  \n",
              "4  17.000   4.500  2011-05-18  NaN      NaN  "
            ]
          },
          "metadata": {
            "tags": []
          },
          "execution_count": 19
        }
      ]
    },
    {
      "cell_type": "code",
      "metadata": {
        "id": "J-dw928Yh9JM",
        "colab_type": "code",
        "colab": {
          "base_uri": "https://localhost:8080/",
          "height": 36
        },
        "outputId": "ac9b8996-4b68-4ad9-8a9a-8c885e21bc2d"
      },
      "source": [
        "data.shape"
      ],
      "execution_count": null,
      "outputs": [
        {
          "output_type": "execute_result",
          "data": {
            "text/plain": [
              "(102695, 8)"
            ]
          },
          "metadata": {
            "tags": []
          },
          "execution_count": 20
        }
      ]
    },
    {
      "cell_type": "markdown",
      "metadata": {
        "id": "BPDt2d63jUUP",
        "colab_type": "text"
      },
      "source": [
        "## Q1: The number of Users\n",
        "## Q2: The number of Movies\n",
        "## Q3:  How many movies are rated by users? List movies not rated before"
      ]
    },
    {
      "cell_type": "code",
      "metadata": {
        "id": "Z5eLbiW5c77-",
        "colab_type": "code",
        "colab": {
          "base_uri": "https://localhost:8080/",
          "height": 503
        },
        "outputId": "3fbfe157-8772-41f3-9b94-84a447b95e91"
      },
      "source": [
        "# Get distinct user #, movie # and # of movies that missing ratings.\n",
        "distinct_user = data['userId'].nunique()\n",
        "distinct_movie = data['movieId'].nunique()\n",
        "rated_missing = data['rating'].isna().sum()\n",
        "print(f\"Dataset Shape: {data.shape}\")\n",
        "print(f\"Dataset has unique users: {distinct_user}\")\n",
        "print(f\"Dataset has unique movies: {distinct_movie}\")\n",
        "print(\"Dataset has movies with no ratings: {}\".format(rated_missing))\n",
        "print('\\n')\n",
        "print('List of Movie with no rating')\n",
        "no_rating = data[data['rating'].isna() == True][['title','genres']]\n",
        "print(no_rating.to_string(index = False))"
      ],
      "execution_count": null,
      "outputs": [
        {
          "output_type": "stream",
          "text": [
            "Dataset Shape: (102695, 8)\n",
            "Dataset has unique users: 610\n",
            "Dataset has unique movies: 9742\n",
            "Dataset has movies with no ratings: 18\n",
            "\n",
            "\n",
            "List of Movie with no rating\n",
            "                                        title                    genres\n",
            "                        Innocents, The (1961)     Drama|Horror|Thriller\n",
            "                               Niagara (1953)            Drama|Thriller\n",
            "                       For All Mankind (1989)               Documentary\n",
            " Color of Paradise, The (Rang-e khoda) (1999)                     Drama\n",
            "               I Know Where I'm Going! (1945)         Drama|Romance|War\n",
            "                           Chosen, The (1981)                     Drama\n",
            "  Road Home, The (Wo de fu qin mu qin) (1999)             Drama|Romance\n",
            "                               Scrooge (1970)     Drama|Fantasy|Musical\n",
            "                                 Proof (1991)      Comedy|Drama|Romance\n",
            "                    Parallax View, The (1974)                  Thriller\n",
            "                     This Gun for Hire (1942)  Crime|Film-Noir|Thriller\n",
            "                 Roaring Twenties, The (1939)      Crime|Drama|Thriller\n",
            "                  Mutiny on the Bounty (1962)   Adventure|Drama|Romance\n",
            "           In the Realms of the Unreal (2004)     Animation|Documentary\n",
            "                     Twentieth Century (1934)                    Comedy\n",
            "                    Call Northside 777 (1948)     Crime|Drama|Film-Noir\n",
            "                 Browning Version, The (1951)                     Drama\n",
            "                           Chalet Girl (2011)            Comedy|Romance\n"
          ],
          "name": "stdout"
        }
      ]
    },
    {
      "cell_type": "markdown",
      "metadata": {
        "id": "Y-5xziTojP2y",
        "colab_type": "text"
      },
      "source": [
        "## Q4: List Movie Genres"
      ]
    },
    {
      "cell_type": "code",
      "metadata": {
        "id": "ujXx9xCzfxww",
        "colab_type": "code",
        "colab": {}
      },
      "source": [
        "def getGenresList(lst):\n",
        "  genres_lst = []\n",
        "  for i in range(len(lst)):\n",
        "    for j in lst[i]:\n",
        "      if j not in genres_lst:\n",
        "        genres_lst.append(j)\n",
        "      else:\n",
        "        continue\n",
        "  return genres_lst\n",
        "genres = movies['genres'].str.split('|')\n",
        "genres_lst = getGenresList(genres)"
      ],
      "execution_count": null,
      "outputs": []
    },
    {
      "cell_type": "code",
      "metadata": {
        "id": "KB8o4-IAgU9Z",
        "colab_type": "code",
        "colab": {
          "base_uri": "https://localhost:8080/",
          "height": 391
        },
        "outputId": "c9908673-c56a-48a0-d382-c6676b128fb3"
      },
      "source": [
        "genres_lst"
      ],
      "execution_count": null,
      "outputs": [
        {
          "output_type": "execute_result",
          "data": {
            "text/plain": [
              "['Adventure',\n",
              " 'Animation',\n",
              " 'Children',\n",
              " 'Comedy',\n",
              " 'Fantasy',\n",
              " 'Romance',\n",
              " 'Drama',\n",
              " 'Action',\n",
              " 'Crime',\n",
              " 'Thriller',\n",
              " 'Horror',\n",
              " 'Mystery',\n",
              " 'Sci-Fi',\n",
              " 'War',\n",
              " 'Musical',\n",
              " 'Documentary',\n",
              " 'IMAX',\n",
              " 'Western',\n",
              " 'Film-Noir',\n",
              " '(no genres listed)']"
            ]
          },
          "metadata": {
            "tags": []
          },
          "execution_count": 23
        }
      ]
    },
    {
      "cell_type": "markdown",
      "metadata": {
        "id": "YShvVTGXqKnc",
        "colab_type": "text"
      },
      "source": [
        "## Q5: Movie for Each Category"
      ]
    },
    {
      "cell_type": "code",
      "metadata": {
        "id": "XylngSLsoQuN",
        "colab_type": "code",
        "colab": {
          "base_uri": "https://localhost:8080/",
          "height": 676
        },
        "outputId": "eba7052b-191a-4a65-f9be-195973161f14"
      },
      "source": [
        "genres_dict = {}\n",
        "for i in range(len(genres)):\n",
        "  for j in genres[i]:\n",
        "    if j not in genres_dict:\n",
        "      genres_dict[j] = 1\n",
        "    else:\n",
        "      genres_dict[j] += 1\n",
        "\n",
        "genres_count = pd.DataFrame.from_dict(genres_dict, orient = 'index', columns = ['Number'])\n",
        "genres_count"
      ],
      "execution_count": null,
      "outputs": [
        {
          "output_type": "execute_result",
          "data": {
            "text/html": [
              "<div>\n",
              "<style scoped>\n",
              "    .dataframe tbody tr th:only-of-type {\n",
              "        vertical-align: middle;\n",
              "    }\n",
              "\n",
              "    .dataframe tbody tr th {\n",
              "        vertical-align: top;\n",
              "    }\n",
              "\n",
              "    .dataframe thead th {\n",
              "        text-align: right;\n",
              "    }\n",
              "</style>\n",
              "<table border=\"1\" class=\"dataframe\">\n",
              "  <thead>\n",
              "    <tr style=\"text-align: right;\">\n",
              "      <th></th>\n",
              "      <th>Number</th>\n",
              "    </tr>\n",
              "  </thead>\n",
              "  <tbody>\n",
              "    <tr>\n",
              "      <th>Adventure</th>\n",
              "      <td>1263</td>\n",
              "    </tr>\n",
              "    <tr>\n",
              "      <th>Animation</th>\n",
              "      <td>611</td>\n",
              "    </tr>\n",
              "    <tr>\n",
              "      <th>Children</th>\n",
              "      <td>664</td>\n",
              "    </tr>\n",
              "    <tr>\n",
              "      <th>Comedy</th>\n",
              "      <td>3756</td>\n",
              "    </tr>\n",
              "    <tr>\n",
              "      <th>Fantasy</th>\n",
              "      <td>779</td>\n",
              "    </tr>\n",
              "    <tr>\n",
              "      <th>Romance</th>\n",
              "      <td>1596</td>\n",
              "    </tr>\n",
              "    <tr>\n",
              "      <th>Drama</th>\n",
              "      <td>4361</td>\n",
              "    </tr>\n",
              "    <tr>\n",
              "      <th>Action</th>\n",
              "      <td>1828</td>\n",
              "    </tr>\n",
              "    <tr>\n",
              "      <th>Crime</th>\n",
              "      <td>1199</td>\n",
              "    </tr>\n",
              "    <tr>\n",
              "      <th>Thriller</th>\n",
              "      <td>1894</td>\n",
              "    </tr>\n",
              "    <tr>\n",
              "      <th>Horror</th>\n",
              "      <td>978</td>\n",
              "    </tr>\n",
              "    <tr>\n",
              "      <th>Mystery</th>\n",
              "      <td>573</td>\n",
              "    </tr>\n",
              "    <tr>\n",
              "      <th>Sci-Fi</th>\n",
              "      <td>980</td>\n",
              "    </tr>\n",
              "    <tr>\n",
              "      <th>War</th>\n",
              "      <td>382</td>\n",
              "    </tr>\n",
              "    <tr>\n",
              "      <th>Musical</th>\n",
              "      <td>334</td>\n",
              "    </tr>\n",
              "    <tr>\n",
              "      <th>Documentary</th>\n",
              "      <td>440</td>\n",
              "    </tr>\n",
              "    <tr>\n",
              "      <th>IMAX</th>\n",
              "      <td>158</td>\n",
              "    </tr>\n",
              "    <tr>\n",
              "      <th>Western</th>\n",
              "      <td>167</td>\n",
              "    </tr>\n",
              "    <tr>\n",
              "      <th>Film-Noir</th>\n",
              "      <td>87</td>\n",
              "    </tr>\n",
              "    <tr>\n",
              "      <th>(no genres listed)</th>\n",
              "      <td>34</td>\n",
              "    </tr>\n",
              "  </tbody>\n",
              "</table>\n",
              "</div>"
            ],
            "text/plain": [
              "                    Number\n",
              "Adventure             1263\n",
              "Animation              611\n",
              "Children               664\n",
              "Comedy                3756\n",
              "Fantasy                779\n",
              "Romance               1596\n",
              "Drama                 4361\n",
              "Action                1828\n",
              "Crime                 1199\n",
              "Thriller              1894\n",
              "Horror                 978\n",
              "Mystery                573\n",
              "Sci-Fi                 980\n",
              "War                    382\n",
              "Musical                334\n",
              "Documentary            440\n",
              "IMAX                   158\n",
              "Western                167\n",
              "Film-Noir               87\n",
              "(no genres listed)      34"
            ]
          },
          "metadata": {
            "tags": []
          },
          "execution_count": 24
        }
      ]
    },
    {
      "cell_type": "code",
      "metadata": {
        "id": "oesFwjyhq4Ad",
        "colab_type": "code",
        "colab": {}
      },
      "source": [
        "movie_lsts = []\n",
        "for i in genres_count.index:\n",
        "  movie_lst = []\n",
        "  for j in range(len(movies)):\n",
        "    if i in movies['genres'][j]:\n",
        "      movie_lst.append(movies['title'][j])\n",
        "  movie_lsts.append(', '.join(movie_lst))\n",
        "\n",
        "movie_lsts_df = pd.DataFrame(movie_lsts, index = genres_count.index, columns = ['Movie List'])\n",
        "\n",
        "    \n"
      ],
      "execution_count": null,
      "outputs": []
    },
    {
      "cell_type": "code",
      "metadata": {
        "id": "yuoPxu9QqUDu",
        "colab_type": "code",
        "colab": {
          "base_uri": "https://localhost:8080/",
          "height": 711
        },
        "outputId": "50c333af-b4a0-4506-e202-6cf8d27171bb"
      },
      "source": [
        "genres_summary = pd.concat([genres_count, movie_lsts_df], axis = 1)\n",
        "genres_summary"
      ],
      "execution_count": null,
      "outputs": [
        {
          "output_type": "execute_result",
          "data": {
            "text/html": [
              "<div>\n",
              "<style scoped>\n",
              "    .dataframe tbody tr th:only-of-type {\n",
              "        vertical-align: middle;\n",
              "    }\n",
              "\n",
              "    .dataframe tbody tr th {\n",
              "        vertical-align: top;\n",
              "    }\n",
              "\n",
              "    .dataframe thead th {\n",
              "        text-align: right;\n",
              "    }\n",
              "</style>\n",
              "<table border=\"1\" class=\"dataframe\">\n",
              "  <thead>\n",
              "    <tr style=\"text-align: right;\">\n",
              "      <th></th>\n",
              "      <th>Number</th>\n",
              "      <th>Movie List</th>\n",
              "    </tr>\n",
              "  </thead>\n",
              "  <tbody>\n",
              "    <tr>\n",
              "      <th>Adventure</th>\n",
              "      <td>1263</td>\n",
              "      <td>Toy Story (1995), Jumanji (1995), Tom and Huck (1995), GoldenEye (1995), Balto (1995), Cutthroat...</td>\n",
              "    </tr>\n",
              "    <tr>\n",
              "      <th>Animation</th>\n",
              "      <td>611</td>\n",
              "      <td>Toy Story (1995), Balto (1995), Pocahontas (1995), Goofy Movie, A (1995), Swan Princess, The (19...</td>\n",
              "    </tr>\n",
              "    <tr>\n",
              "      <th>Children</th>\n",
              "      <td>664</td>\n",
              "      <td>Toy Story (1995), Jumanji (1995), Tom and Huck (1995), Balto (1995), Now and Then (1995), Babe (...</td>\n",
              "    </tr>\n",
              "    <tr>\n",
              "      <th>Comedy</th>\n",
              "      <td>3756</td>\n",
              "      <td>Toy Story (1995), Grumpier Old Men (1995), Waiting to Exhale (1995), Father of the Bride Part II...</td>\n",
              "    </tr>\n",
              "    <tr>\n",
              "      <th>Fantasy</th>\n",
              "      <td>779</td>\n",
              "      <td>Toy Story (1995), Jumanji (1995), City of Lost Children, The (Cité des enfants perdus, La) (1995...</td>\n",
              "    </tr>\n",
              "    <tr>\n",
              "      <th>Romance</th>\n",
              "      <td>1596</td>\n",
              "      <td>Grumpier Old Men (1995), Waiting to Exhale (1995), Sabrina (1995), American President, The (1995...</td>\n",
              "    </tr>\n",
              "    <tr>\n",
              "      <th>Drama</th>\n",
              "      <td>4361</td>\n",
              "      <td>Waiting to Exhale (1995), American President, The (1995), Nixon (1995), Casino (1995), Sense and...</td>\n",
              "    </tr>\n",
              "    <tr>\n",
              "      <th>Action</th>\n",
              "      <td>1828</td>\n",
              "      <td>Heat (1995), Sudden Death (1995), GoldenEye (1995), Cutthroat Island (1995), Money Train (1995),...</td>\n",
              "    </tr>\n",
              "    <tr>\n",
              "      <th>Crime</th>\n",
              "      <td>1199</td>\n",
              "      <td>Heat (1995), Casino (1995), Money Train (1995), Get Shorty (1995), Copycat (1995), Assassins (19...</td>\n",
              "    </tr>\n",
              "    <tr>\n",
              "      <th>Thriller</th>\n",
              "      <td>1894</td>\n",
              "      <td>Heat (1995), GoldenEye (1995), Money Train (1995), Get Shorty (1995), Copycat (1995), Assassins ...</td>\n",
              "    </tr>\n",
              "    <tr>\n",
              "      <th>Horror</th>\n",
              "      <td>978</td>\n",
              "      <td>Dracula: Dead and Loving It (1995), Copycat (1995), From Dusk Till Dawn (1996), Mary Reilly (199...</td>\n",
              "    </tr>\n",
              "    <tr>\n",
              "      <th>Mystery</th>\n",
              "      <td>573</td>\n",
              "      <td>Copycat (1995), City of Lost Children, The (Cité des enfants perdus, La) (1995), Twelve Monkeys ...</td>\n",
              "    </tr>\n",
              "    <tr>\n",
              "      <th>Sci-Fi</th>\n",
              "      <td>980</td>\n",
              "      <td>Powder (1995), City of Lost Children, The (Cité des enfants perdus, La) (1995), Twelve Monkeys (...</td>\n",
              "    </tr>\n",
              "    <tr>\n",
              "      <th>War</th>\n",
              "      <td>382</td>\n",
              "      <td>Richard III (1995), Misérables, Les (1995), Braveheart (1995), Rob Roy (1995), Beyond Rangoon (1...</td>\n",
              "    </tr>\n",
              "    <tr>\n",
              "      <th>Musical</th>\n",
              "      <td>334</td>\n",
              "      <td>Pocahontas (1995), Muppet Treasure Island (1996), Umbrellas of Cherbourg, The (Parapluies de Che...</td>\n",
              "    </tr>\n",
              "    <tr>\n",
              "      <th>Documentary</th>\n",
              "      <td>440</td>\n",
              "      <td>Nico Icon (1995), Heidi Fleiss: Hollywood Madam (1995), Catwalk (1996), Anne Frank Remembered (1...</td>\n",
              "    </tr>\n",
              "    <tr>\n",
              "      <th>IMAX</th>\n",
              "      <td>158</td>\n",
              "      <td>Apollo 13 (1995), Lion King, The (1994), Beauty and the Beast (1991), Everest (1998), Fantasia 2...</td>\n",
              "    </tr>\n",
              "    <tr>\n",
              "      <th>Western</th>\n",
              "      <td>167</td>\n",
              "      <td>Desperado (1995), Wild Bill (1995), Legends of the Fall (1994), Quick and the Dead, The (1995), ...</td>\n",
              "    </tr>\n",
              "    <tr>\n",
              "      <th>Film-Noir</th>\n",
              "      <td>87</td>\n",
              "      <td>Devil in a Blue Dress (1995), Suture (1993), Bitter Moon (1992), Maltese Falcon, The (1941), Sun...</td>\n",
              "    </tr>\n",
              "    <tr>\n",
              "      <th>(no genres listed)</th>\n",
              "      <td>34</td>\n",
              "      <td>La cravate (1957), Ben-hur (2016), Pirates of the Caribbean: Dead Men Tell No Tales (2017), Supe...</td>\n",
              "    </tr>\n",
              "  </tbody>\n",
              "</table>\n",
              "</div>"
            ],
            "text/plain": [
              "                    Number  \\\n",
              "Adventure             1263   \n",
              "Animation              611   \n",
              "Children               664   \n",
              "Comedy                3756   \n",
              "Fantasy                779   \n",
              "Romance               1596   \n",
              "Drama                 4361   \n",
              "Action                1828   \n",
              "Crime                 1199   \n",
              "Thriller              1894   \n",
              "Horror                 978   \n",
              "Mystery                573   \n",
              "Sci-Fi                 980   \n",
              "War                    382   \n",
              "Musical                334   \n",
              "Documentary            440   \n",
              "IMAX                   158   \n",
              "Western                167   \n",
              "Film-Noir               87   \n",
              "(no genres listed)      34   \n",
              "\n",
              "                                                                                                             Movie List  \n",
              "Adventure           Toy Story (1995), Jumanji (1995), Tom and Huck (1995), GoldenEye (1995), Balto (1995), Cutthroat...  \n",
              "Animation           Toy Story (1995), Balto (1995), Pocahontas (1995), Goofy Movie, A (1995), Swan Princess, The (19...  \n",
              "Children            Toy Story (1995), Jumanji (1995), Tom and Huck (1995), Balto (1995), Now and Then (1995), Babe (...  \n",
              "Comedy              Toy Story (1995), Grumpier Old Men (1995), Waiting to Exhale (1995), Father of the Bride Part II...  \n",
              "Fantasy             Toy Story (1995), Jumanji (1995), City of Lost Children, The (Cité des enfants perdus, La) (1995...  \n",
              "Romance             Grumpier Old Men (1995), Waiting to Exhale (1995), Sabrina (1995), American President, The (1995...  \n",
              "Drama               Waiting to Exhale (1995), American President, The (1995), Nixon (1995), Casino (1995), Sense and...  \n",
              "Action              Heat (1995), Sudden Death (1995), GoldenEye (1995), Cutthroat Island (1995), Money Train (1995),...  \n",
              "Crime               Heat (1995), Casino (1995), Money Train (1995), Get Shorty (1995), Copycat (1995), Assassins (19...  \n",
              "Thriller            Heat (1995), GoldenEye (1995), Money Train (1995), Get Shorty (1995), Copycat (1995), Assassins ...  \n",
              "Horror              Dracula: Dead and Loving It (1995), Copycat (1995), From Dusk Till Dawn (1996), Mary Reilly (199...  \n",
              "Mystery             Copycat (1995), City of Lost Children, The (Cité des enfants perdus, La) (1995), Twelve Monkeys ...  \n",
              "Sci-Fi              Powder (1995), City of Lost Children, The (Cité des enfants perdus, La) (1995), Twelve Monkeys (...  \n",
              "War                 Richard III (1995), Misérables, Les (1995), Braveheart (1995), Rob Roy (1995), Beyond Rangoon (1...  \n",
              "Musical             Pocahontas (1995), Muppet Treasure Island (1996), Umbrellas of Cherbourg, The (Parapluies de Che...  \n",
              "Documentary         Nico Icon (1995), Heidi Fleiss: Hollywood Madam (1995), Catwalk (1996), Anne Frank Remembered (1...  \n",
              "IMAX                Apollo 13 (1995), Lion King, The (1994), Beauty and the Beast (1991), Everest (1998), Fantasia 2...  \n",
              "Western             Desperado (1995), Wild Bill (1995), Legends of the Fall (1994), Quick and the Dead, The (1995), ...  \n",
              "Film-Noir           Devil in a Blue Dress (1995), Suture (1993), Bitter Moon (1992), Maltese Falcon, The (1941), Sun...  \n",
              "(no genres listed)  La cravate (1957), Ben-hur (2016), Pirates of the Caribbean: Dead Men Tell No Tales (2017), Supe...  "
            ]
          },
          "metadata": {
            "tags": []
          },
          "execution_count": 26
        }
      ]
    },
    {
      "cell_type": "markdown",
      "metadata": {
        "id": "A5HboKKPOJTb",
        "colab_type": "text"
      },
      "source": [
        "# Part2: Spark ALS based approach for training model\n",
        "## We will use an Spark ML to predict the ratings, so let's reload \"ratings.csv\" using ``sc.textFile`` and then convert it to the form of (user, item, rating) tuples."
      ]
    },
    {
      "cell_type": "code",
      "metadata": {
        "id": "A-iadcx3QkuU",
        "colab_type": "code",
        "colab": {
          "base_uri": "https://localhost:8080/",
          "height": 280
        },
        "outputId": "8d38d1a1-5f09-4a8c-9ec5-4f3b0bbf651d"
      },
      "source": [
        "! pip install pyspark"
      ],
      "execution_count": null,
      "outputs": [
        {
          "output_type": "stream",
          "text": [
            "Collecting pyspark\n",
            "\u001b[?25l  Downloading https://files.pythonhosted.org/packages/8e/b0/bf9020b56492281b9c9d8aae8f44ff51e1bc91b3ef5a884385cb4e389a40/pyspark-3.0.0.tar.gz (204.7MB)\n",
            "\u001b[K     |████████████████████████████████| 204.7MB 67kB/s \n",
            "\u001b[?25hCollecting py4j==0.10.9\n",
            "\u001b[?25l  Downloading https://files.pythonhosted.org/packages/9e/b6/6a4fb90cd235dc8e265a6a2067f2a2c99f0d91787f06aca4bcf7c23f3f80/py4j-0.10.9-py2.py3-none-any.whl (198kB)\n",
            "\u001b[K     |████████████████████████████████| 204kB 44.4MB/s \n",
            "\u001b[?25hBuilding wheels for collected packages: pyspark\n",
            "  Building wheel for pyspark (setup.py) ... \u001b[?25l\u001b[?25hdone\n",
            "  Created wheel for pyspark: filename=pyspark-3.0.0-py2.py3-none-any.whl size=205044182 sha256=00683cbfbb34661496396c69d43dd50d437302b855ebf46e529e30b6b2bd8161\n",
            "  Stored in directory: /root/.cache/pip/wheels/57/27/4d/ddacf7143f8d5b76c45c61ee2e43d9f8492fc5a8e78ebd7d37\n",
            "Successfully built pyspark\n",
            "Installing collected packages: py4j, pyspark\n",
            "Successfully installed py4j-0.10.9 pyspark-3.0.0\n"
          ],
          "name": "stdout"
        }
      ]
    },
    {
      "cell_type": "code",
      "metadata": {
        "id": "gjL0J8uZ1hVx",
        "colab_type": "code",
        "colab": {}
      },
      "source": [
        "from pyspark.sql import SparkSession\n",
        "spark = SparkSession \\\n",
        "    .builder \\\n",
        "    .appName(\"moive analysis\") \\\n",
        "    .config(\"spark.some.config.option\", \"some-value\") \\\n",
        "    .getOrCreate()"
      ],
      "execution_count": null,
      "outputs": []
    },
    {
      "cell_type": "code",
      "metadata": {
        "id": "nduz8qnpdAik",
        "colab_type": "code",
        "colab": {}
      },
      "source": [
        "from pyspark.sql import SQLContext"
      ],
      "execution_count": null,
      "outputs": []
    },
    {
      "cell_type": "code",
      "metadata": {
        "id": "11QQtcw8OkAj",
        "colab_type": "code",
        "colab": {}
      },
      "source": [
        "movies_df = spark.read.load(\"/content/drive/My Drive/Data/links.csv\", format='csv', header = True)\n",
        "ratings_df = spark.read.load(\"/content/drive/My Drive/Data/ratings.csv\", format='csv', header = True)\n",
        "links_df = spark.read.load(\"/content/drive/My Drive/Data/links.csv\", format='csv', header = True)\n",
        "tags_df = spark.read.load(\"/content/drive/My Drive/Data/tags.csv\", format='csv', header = True)"
      ],
      "execution_count": null,
      "outputs": []
    },
    {
      "cell_type": "code",
      "metadata": {
        "id": "h_c0X0ihRECR",
        "colab_type": "code",
        "colab": {
          "base_uri": "https://localhost:8080/",
          "height": 503
        },
        "outputId": "d47995c0-9c86-466d-c46a-c10e499fa1a6"
      },
      "source": [
        "ratings_df.show()"
      ],
      "execution_count": null,
      "outputs": [
        {
          "output_type": "stream",
          "text": [
            "+------+-------+------+---------+\n",
            "|userId|movieId|rating|timestamp|\n",
            "+------+-------+------+---------+\n",
            "|     1|      1|   4.0|964982703|\n",
            "|     1|      3|   4.0|964981247|\n",
            "|     1|      6|   4.0|964982224|\n",
            "|     1|     47|   5.0|964983815|\n",
            "|     1|     50|   5.0|964982931|\n",
            "|     1|     70|   3.0|964982400|\n",
            "|     1|    101|   5.0|964980868|\n",
            "|     1|    110|   4.0|964982176|\n",
            "|     1|    151|   5.0|964984041|\n",
            "|     1|    157|   5.0|964984100|\n",
            "|     1|    163|   5.0|964983650|\n",
            "|     1|    216|   5.0|964981208|\n",
            "|     1|    223|   3.0|964980985|\n",
            "|     1|    231|   5.0|964981179|\n",
            "|     1|    235|   4.0|964980908|\n",
            "|     1|    260|   5.0|964981680|\n",
            "|     1|    296|   3.0|964982967|\n",
            "|     1|    316|   3.0|964982310|\n",
            "|     1|    333|   5.0|964981179|\n",
            "|     1|    349|   4.0|964982563|\n",
            "+------+-------+------+---------+\n",
            "only showing top 20 rows\n",
            "\n"
          ],
          "name": "stdout"
        }
      ]
    },
    {
      "cell_type": "code",
      "metadata": {
        "id": "6Mzf_coSi2cn",
        "colab_type": "code",
        "colab": {}
      },
      "source": [
        "movie_ratings = ratings_df.drop('timestamp')"
      ],
      "execution_count": null,
      "outputs": []
    },
    {
      "cell_type": "code",
      "metadata": {
        "id": "6vAu-4ivjASx",
        "colab_type": "code",
        "colab": {}
      },
      "source": [
        "# Data type convert\n",
        "from pyspark.sql.types import IntegerType, FloatType\n",
        "movie_ratings = movie_ratings.withColumn(\"userId\", movie_ratings[\"userId\"].cast(IntegerType()))\n",
        "movie_ratings = movie_ratings.withColumn(\"movieId\", movie_ratings[\"movieId\"].cast(IntegerType()))\n",
        "movie_ratings = movie_ratings.withColumn(\"rating\", movie_ratings[\"rating\"].cast(FloatType()))"
      ],
      "execution_count": null,
      "outputs": []
    },
    {
      "cell_type": "markdown",
      "metadata": {
        "id": "QHCdMh9gjL04",
        "colab_type": "text"
      },
      "source": [
        "# ALS Model Selection and Evaluation\n",
        "## With the ALS model, we can use a grid search to find the optimal hyperparameters."
      ]
    },
    {
      "cell_type": "code",
      "metadata": {
        "id": "bq5fu1lKjIlj",
        "colab_type": "code",
        "colab": {}
      },
      "source": [
        "# import package\n",
        "from pyspark.ml.evaluation import RegressionEvaluator\n",
        "from pyspark.ml.recommendation import ALS\n",
        "from pyspark.ml.tuning import CrossValidator,ParamGridBuilder"
      ],
      "execution_count": null,
      "outputs": []
    },
    {
      "cell_type": "code",
      "metadata": {
        "id": "9BEWktHajQVg",
        "colab_type": "code",
        "colab": {}
      },
      "source": [
        "#Create test and train set\n",
        "(training,test)=movie_ratings.randomSplit([0.8,0.2], seed = 33)"
      ],
      "execution_count": null,
      "outputs": []
    },
    {
      "cell_type": "code",
      "metadata": {
        "id": "nA9i-qTnjS45",
        "colab_type": "code",
        "colab": {}
      },
      "source": [
        "#Create ALS model\n",
        "als = ALS(maxIter=5, regParam=0.01, rank = 8, userCol=\"userId\", itemCol=\"movieId\", ratingCol=\"rating\",\n",
        "          coldStartStrategy=\"drop\", nonnegative = True)"
      ],
      "execution_count": null,
      "outputs": []
    },
    {
      "cell_type": "code",
      "metadata": {
        "id": "YbzlXwKqjlZd",
        "colab_type": "code",
        "colab": {}
      },
      "source": [
        "#Tune model using ParamGridBuilder\n",
        "paramGrid = ParamGridBuilder()\\\n",
        "            .addGrid(als.regParam, [0.001, 0.01, 0.05, 0.1])\\\n",
        "            .addGrid(als.maxIter, [5, 10, 15])\\\n",
        "            .addGrid(als.rank, [8,  12,  16,])\\\n",
        "            .build()"
      ],
      "execution_count": null,
      "outputs": []
    },
    {
      "cell_type": "code",
      "metadata": {
        "id": "2x6VKqI8jqku",
        "colab_type": "code",
        "colab": {}
      },
      "source": [
        "# Define evaluator as RMSE\n",
        "evaluator = RegressionEvaluator(metricName=\"rmse\", labelCol=\"rating\",\n",
        "                                predictionCol=\"prediction\")"
      ],
      "execution_count": null,
      "outputs": []
    },
    {
      "cell_type": "code",
      "metadata": {
        "id": "DEZopn-Njtq9",
        "colab_type": "code",
        "colab": {}
      },
      "source": [
        "# Build Cross validation \n",
        "crossval = CrossValidator(estimator=als,\n",
        "                          estimatorParamMaps=paramGrid,\n",
        "                          evaluator=evaluator,\n",
        "                          numFolds=5)"
      ],
      "execution_count": null,
      "outputs": []
    },
    {
      "cell_type": "code",
      "metadata": {
        "id": "nYlVu8zwkXRf",
        "colab_type": "code",
        "colab": {}
      },
      "source": [
        "#Fit ALS model to training data\n",
        "model = crossval.fit(training)"
      ],
      "execution_count": null,
      "outputs": []
    },
    {
      "cell_type": "code",
      "metadata": {
        "id": "55Y8Y-_8l0hg",
        "colab_type": "code",
        "colab": {}
      },
      "source": [
        "#Extract best model from the tuning exercise using ParamGridBuilder\n",
        "best_model = model.bestModel"
      ],
      "execution_count": null,
      "outputs": []
    },
    {
      "cell_type": "markdown",
      "metadata": {
        "id": "YihnuCPKksfF",
        "colab_type": "text"
      },
      "source": [
        "# Model testing\n",
        "##And finally, make a prediction and check the testing error."
      ]
    },
    {
      "cell_type": "code",
      "metadata": {
        "id": "SLi_Jncmkpsm",
        "colab_type": "code",
        "colab": {}
      },
      "source": [
        "#Generate predictions and evaluate using RMSE\n",
        "predictions=best_model.transform(test)\n",
        "rmse = evaluator.evaluate(predictions)"
      ],
      "execution_count": null,
      "outputs": []
    },
    {
      "cell_type": "code",
      "metadata": {
        "id": "w979HNr04oZ4",
        "colab_type": "code",
        "colab": {
          "base_uri": "https://localhost:8080/",
          "height": 111
        },
        "outputId": "04dc7626-3426-401d-bf44-9d77ddf7bc8a"
      },
      "source": [
        "#Print evaluation metrics and model parameters\n",
        "print (\"RMSE = \"+str(rmse))\n",
        "print (\"**Best Model**\")\n",
        "print (\" Rank:\" + str(best_model.rank))\n",
        "print (\" MaxIter:\" + str(best_model._java_obj.parent().getMaxIter()))\n",
        "print (\" RegParam:\" + str(best_model._java_obj.parent().getRegParam()))"
      ],
      "execution_count": null,
      "outputs": [
        {
          "output_type": "stream",
          "text": [
            "RMSE = 0.8756757167936443\n",
            "**Best Model**\n",
            " Rank:8\n",
            " MaxIter:15\n",
            " RegParam:0.1\n"
          ],
          "name": "stdout"
        }
      ]
    },
    {
      "cell_type": "code",
      "metadata": {
        "id": "s4CyjF_G4y6Z",
        "colab_type": "code",
        "colab": {
          "base_uri": "https://localhost:8080/",
          "height": 503
        },
        "outputId": "33ea0627-400f-4383-fff2-9df81b363a61"
      },
      "source": [
        "predictions.show()"
      ],
      "execution_count": null,
      "outputs": [
        {
          "output_type": "stream",
          "text": [
            "+------+-------+------+----------+\n",
            "|userId|movieId|rating|prediction|\n",
            "+------+-------+------+----------+\n",
            "|    57|    471|   3.0| 3.4022155|\n",
            "|   462|    471|   2.5| 2.7203116|\n",
            "|   176|    471|   5.0| 3.3157814|\n",
            "|   520|    471|   5.0| 3.0083802|\n",
            "|   273|    471|   5.0|  3.664475|\n",
            "|   216|    471|   3.0| 3.5301418|\n",
            "|   287|    471|   4.5| 2.9268203|\n",
            "|    32|    471|   3.0| 3.9161892|\n",
            "|   541|    471|   3.0|  3.686296|\n",
            "|   474|   1088|   3.5| 2.9751709|\n",
            "|   169|   1088|   4.5| 3.9963353|\n",
            "|    41|   1088|   1.5| 2.5871677|\n",
            "|   583|   1088|   3.5| 3.3980017|\n",
            "|   555|   1088|   4.0|  3.310546|\n",
            "|   391|   1088|   1.0| 3.0393512|\n",
            "|   509|   1088|   3.0| 2.9834957|\n",
            "|   414|   1088|   3.0| 3.1559575|\n",
            "|   525|   1088|   4.5| 3.3515925|\n",
            "|   116|   1088|   4.5| 3.2281513|\n",
            "|   600|   1088|   3.5| 2.5342603|\n",
            "+------+-------+------+----------+\n",
            "only showing top 20 rows\n",
            "\n"
          ],
          "name": "stdout"
        }
      ]
    },
    {
      "cell_type": "markdown",
      "metadata": {
        "id": "s3UngMT95IIi",
        "colab_type": "text"
      },
      "source": [
        "# Model apply and see the performance"
      ]
    },
    {
      "cell_type": "code",
      "metadata": {
        "id": "TU_AYJbN5CWD",
        "colab_type": "code",
        "colab": {
          "base_uri": "https://localhost:8080/",
          "height": 36
        },
        "outputId": "6be2f281-728d-4d32-9856-adac92bd107c"
      },
      "source": [
        "alldata=best_model.transform(movie_ratings)\n",
        "rmse = evaluator.evaluate(alldata)\n",
        "print (\"RMSE = \"+str(rmse))"
      ],
      "execution_count": null,
      "outputs": [
        {
          "output_type": "stream",
          "text": [
            "RMSE = 0.6601598879706201\n"
          ],
          "name": "stdout"
        }
      ]
    },
    {
      "cell_type": "code",
      "metadata": {
        "id": "KPZiygIL5J7U",
        "colab_type": "code",
        "colab": {}
      },
      "source": [
        "alldata.registerTempTable(\"alldata\")\n",
        "movies_df.registerTempTable(\"movies_py\")"
      ],
      "execution_count": null,
      "outputs": []
    },
    {
      "cell_type": "code",
      "metadata": {
        "id": "pDrHXPf7DD1S",
        "colab_type": "code",
        "colab": {
          "base_uri": "https://localhost:8080/",
          "height": 503
        },
        "outputId": "76c4f62e-29a0-4c78-c684-2903ce514ec3"
      },
      "source": [
        "output=spark.sql(\"Select * from alldata\")\n",
        "output.show()"
      ],
      "execution_count": null,
      "outputs": [
        {
          "output_type": "stream",
          "text": [
            "+------+-------+------+----------+\n",
            "|userId|movieId|rating|prediction|\n",
            "+------+-------+------+----------+\n",
            "|   191|    148|   5.0| 4.9142957|\n",
            "|   133|    471|   4.0| 3.2198467|\n",
            "|   597|    471|   2.0| 4.1746902|\n",
            "|   385|    471|   4.0| 2.8706434|\n",
            "|   436|    471|   3.0| 3.4148808|\n",
            "|   602|    471|   4.0| 3.5163324|\n",
            "|    91|    471|   1.0| 2.1001987|\n",
            "|   409|    471|   3.0|  3.490967|\n",
            "|   372|    471|   3.0|  2.846321|\n",
            "|   599|    471|   2.5| 2.5546834|\n",
            "|   603|    471|   4.0|  3.404143|\n",
            "|   182|    471|   4.5| 4.1445665|\n",
            "|   218|    471|   4.0| 3.5163882|\n",
            "|   474|    471|   3.0|  3.274422|\n",
            "|   500|    471|   1.0| 2.2210767|\n",
            "|    57|    471|   3.0| 3.4022155|\n",
            "|   462|    471|   2.5| 2.7203116|\n",
            "|   387|    471|   3.0| 3.1333747|\n",
            "|   610|    471|   4.0| 3.1766458|\n",
            "|   217|    471|   2.0| 2.4428291|\n",
            "+------+-------+------+----------+\n",
            "only showing top 20 rows\n",
            "\n"
          ],
          "name": "stdout"
        }
      ]
    },
    {
      "cell_type": "code",
      "metadata": {
        "id": "dSM9boHfDHbp",
        "colab_type": "code",
        "colab": {
          "base_uri": "https://localhost:8080/",
          "height": 503
        },
        "outputId": "de969d49-d2a9-4aa7-8142-df4fda1d90af"
      },
      "source": [
        "output=spark.sql(\"Select * from movies_py join alldata on movies_py.movieId=alldata.movieId\")\n",
        "output.show()"
      ],
      "execution_count": null,
      "outputs": [
        {
          "output_type": "stream",
          "text": [
            "+-------+-------+------+------+-------+------+----------+\n",
            "|movieId| imdbId|tmdbId|userId|movieId|rating|prediction|\n",
            "+-------+-------+------+------+-------+------+----------+\n",
            "|    148|0112427| 22279|   191|    148|   5.0| 4.9142957|\n",
            "|    471|0110074| 11934|   133|    471|   4.0| 3.2198467|\n",
            "|    471|0110074| 11934|   597|    471|   2.0| 4.1746902|\n",
            "|    471|0110074| 11934|   385|    471|   4.0| 2.8706434|\n",
            "|    471|0110074| 11934|   436|    471|   3.0| 3.4148808|\n",
            "|    471|0110074| 11934|   602|    471|   4.0| 3.5163324|\n",
            "|    471|0110074| 11934|    91|    471|   1.0| 2.1001987|\n",
            "|    471|0110074| 11934|   409|    471|   3.0|  3.490967|\n",
            "|    471|0110074| 11934|   372|    471|   3.0|  2.846321|\n",
            "|    471|0110074| 11934|   599|    471|   2.5| 2.5546834|\n",
            "|    471|0110074| 11934|   603|    471|   4.0|  3.404143|\n",
            "|    471|0110074| 11934|   182|    471|   4.5| 4.1445665|\n",
            "|    471|0110074| 11934|   218|    471|   4.0| 3.5163882|\n",
            "|    471|0110074| 11934|   474|    471|   3.0|  3.274422|\n",
            "|    471|0110074| 11934|   500|    471|   1.0| 2.2210767|\n",
            "|    471|0110074| 11934|    57|    471|   3.0| 3.4022155|\n",
            "|    471|0110074| 11934|   462|    471|   2.5| 2.7203116|\n",
            "|    471|0110074| 11934|   387|    471|   3.0| 3.1333747|\n",
            "|    471|0110074| 11934|   610|    471|   4.0| 3.1766458|\n",
            "|    471|0110074| 11934|   217|    471|   2.0| 2.4428291|\n",
            "+-------+-------+------+------+-------+------+----------+\n",
            "only showing top 20 rows\n",
            "\n"
          ],
          "name": "stdout"
        }
      ]
    },
    {
      "cell_type": "markdown",
      "metadata": {
        "id": "aJENXVjCth4g",
        "colab_type": "text"
      },
      "source": [
        "# Recommend moive to users with id: 575, 232. \n",
        "## you can choose some users to recommend the moives "
      ]
    },
    {
      "cell_type": "code",
      "metadata": {
        "id": "rHZRJWh6DKh_",
        "colab_type": "code",
        "colab": {}
      },
      "source": [
        "#Generate top 10 movie recommendations for each user\n",
        "user_Recs = best_model.recommendForAllUsers(10)"
      ],
      "execution_count": null,
      "outputs": []
    },
    {
      "cell_type": "code",
      "metadata": {
        "id": "gEY5C_ymtvAD",
        "colab_type": "code",
        "colab": {}
      },
      "source": [
        "user575_rec = user_Recs.filter(user_Recs.userId==575)"
      ],
      "execution_count": null,
      "outputs": []
    },
    {
      "cell_type": "markdown",
      "metadata": {
        "id": "Rstgasn_izdP",
        "colab_type": "text"
      },
      "source": [
        "## Recommendations for User 575"
      ]
    },
    {
      "cell_type": "code",
      "metadata": {
        "id": "79es6iIBb-lG",
        "colab_type": "code",
        "colab": {}
      },
      "source": [
        "def get_rec_for_user(recs):\n",
        "  recs = recs.select('recommendations.movieId', 'recommendations.rating')\n",
        "  rec_user = recs.select('movieId').toPandas().iloc[0,0]\n",
        "  ratings = recs.select('rating').toPandas().iloc[0,0]\n",
        "  ratings_matrix = pd.DataFrame(rec_user, columns = ['movieId'])\n",
        "  ratings_matrix['ratings'] = ratings\n",
        "  ratings_matrix_ps = pd.merge(ratings_matrix, movies, how = 'left', on = 'movieId')\n",
        "  return ratings_matrix_ps"
      ],
      "execution_count": null,
      "outputs": []
    },
    {
      "cell_type": "code",
      "metadata": {
        "id": "rlOde2C6bLpM",
        "colab_type": "code",
        "colab": {
          "base_uri": "https://localhost:8080/",
          "height": 381
        },
        "outputId": "4302385c-6f0c-456a-8835-14e806421017"
      },
      "source": [
        "print('Recommendation for user 575')\n",
        "get_rec_for_user(user575_rec)\n"
      ],
      "execution_count": null,
      "outputs": [
        {
          "output_type": "stream",
          "text": [
            "Recommendation for user 575\n"
          ],
          "name": "stdout"
        },
        {
          "output_type": "execute_result",
          "data": {
            "text/html": [
              "<div>\n",
              "<style scoped>\n",
              "    .dataframe tbody tr th:only-of-type {\n",
              "        vertical-align: middle;\n",
              "    }\n",
              "\n",
              "    .dataframe tbody tr th {\n",
              "        vertical-align: top;\n",
              "    }\n",
              "\n",
              "    .dataframe thead th {\n",
              "        text-align: right;\n",
              "    }\n",
              "</style>\n",
              "<table border=\"1\" class=\"dataframe\">\n",
              "  <thead>\n",
              "    <tr style=\"text-align: right;\">\n",
              "      <th></th>\n",
              "      <th>movieId</th>\n",
              "      <th>ratings</th>\n",
              "      <th>title</th>\n",
              "      <th>genres</th>\n",
              "    </tr>\n",
              "  </thead>\n",
              "  <tbody>\n",
              "    <tr>\n",
              "      <th>0</th>\n",
              "      <td>141718</td>\n",
              "      <td>5.369</td>\n",
              "      <td>Deathgasm (2015)</td>\n",
              "      <td>Comedy|Horror</td>\n",
              "    </tr>\n",
              "    <tr>\n",
              "      <th>1</th>\n",
              "      <td>26326</td>\n",
              "      <td>5.297</td>\n",
              "      <td>Holy Mountain, The (Montaña sagrada, La) (1973)</td>\n",
              "      <td>Drama</td>\n",
              "    </tr>\n",
              "    <tr>\n",
              "      <th>2</th>\n",
              "      <td>7025</td>\n",
              "      <td>5.239</td>\n",
              "      <td>Midnight Clear, A (1992)</td>\n",
              "      <td>Drama|War</td>\n",
              "    </tr>\n",
              "    <tr>\n",
              "      <th>3</th>\n",
              "      <td>417</td>\n",
              "      <td>5.226</td>\n",
              "      <td>Barcelona (1994)</td>\n",
              "      <td>Comedy|Romance</td>\n",
              "    </tr>\n",
              "    <tr>\n",
              "      <th>4</th>\n",
              "      <td>2131</td>\n",
              "      <td>5.131</td>\n",
              "      <td>Autumn Sonata (Höstsonaten) (1978)</td>\n",
              "      <td>Drama</td>\n",
              "    </tr>\n",
              "    <tr>\n",
              "      <th>5</th>\n",
              "      <td>25947</td>\n",
              "      <td>5.127</td>\n",
              "      <td>Unfaithfully Yours (1948)</td>\n",
              "      <td>Comedy</td>\n",
              "    </tr>\n",
              "    <tr>\n",
              "      <th>6</th>\n",
              "      <td>26810</td>\n",
              "      <td>5.102</td>\n",
              "      <td>Bad Boy Bubby (1993)</td>\n",
              "      <td>Drama</td>\n",
              "    </tr>\n",
              "    <tr>\n",
              "      <th>7</th>\n",
              "      <td>116897</td>\n",
              "      <td>5.095</td>\n",
              "      <td>Wild Tales (2014)</td>\n",
              "      <td>Comedy|Drama|Thriller</td>\n",
              "    </tr>\n",
              "    <tr>\n",
              "      <th>8</th>\n",
              "      <td>3379</td>\n",
              "      <td>5.089</td>\n",
              "      <td>On the Beach (1959)</td>\n",
              "      <td>Drama</td>\n",
              "    </tr>\n",
              "    <tr>\n",
              "      <th>9</th>\n",
              "      <td>1217</td>\n",
              "      <td>5.073</td>\n",
              "      <td>Ran (1985)</td>\n",
              "      <td>Drama|War</td>\n",
              "    </tr>\n",
              "  </tbody>\n",
              "</table>\n",
              "</div>"
            ],
            "text/plain": [
              "   movieId  ratings                                            title  \\\n",
              "0   141718    5.369                                 Deathgasm (2015)   \n",
              "1    26326    5.297  Holy Mountain, The (Montaña sagrada, La) (1973)   \n",
              "2     7025    5.239                         Midnight Clear, A (1992)   \n",
              "3      417    5.226                                 Barcelona (1994)   \n",
              "4     2131    5.131               Autumn Sonata (Höstsonaten) (1978)   \n",
              "5    25947    5.127                        Unfaithfully Yours (1948)   \n",
              "6    26810    5.102                             Bad Boy Bubby (1993)   \n",
              "7   116897    5.095                                Wild Tales (2014)   \n",
              "8     3379    5.089                              On the Beach (1959)   \n",
              "9     1217    5.073                                       Ran (1985)   \n",
              "\n",
              "                  genres  \n",
              "0          Comedy|Horror  \n",
              "1                  Drama  \n",
              "2              Drama|War  \n",
              "3         Comedy|Romance  \n",
              "4                  Drama  \n",
              "5                 Comedy  \n",
              "6                  Drama  \n",
              "7  Comedy|Drama|Thriller  \n",
              "8                  Drama  \n",
              "9              Drama|War  "
            ]
          },
          "metadata": {
            "tags": []
          },
          "execution_count": 52
        }
      ]
    },
    {
      "cell_type": "markdown",
      "metadata": {
        "id": "wtphZsoIjAXk",
        "colab_type": "text"
      },
      "source": [
        "## Recommendations for User 232"
      ]
    },
    {
      "cell_type": "code",
      "metadata": {
        "id": "NiiEsJrs0_K4",
        "colab_type": "code",
        "colab": {
          "base_uri": "https://localhost:8080/",
          "height": 695
        },
        "outputId": "dc370a6a-7977-4350-af36-db5e0f82c166"
      },
      "source": [
        "print('List of Movies User 232 likes: Mostly Action/Drama Movies')\n",
        "movie_232 = combined[(combined['userId'] == 232) & (combined['rating'] == 5)][['title', 'rating', 'genres']]\n",
        "movie_232"
      ],
      "execution_count": null,
      "outputs": [
        {
          "output_type": "stream",
          "text": [
            "List of Movies User 232 likes: Mostly Action/Drama Movies\n"
          ],
          "name": "stdout"
        },
        {
          "output_type": "execute_result",
          "data": {
            "text/html": [
              "<div>\n",
              "<style scoped>\n",
              "    .dataframe tbody tr th:only-of-type {\n",
              "        vertical-align: middle;\n",
              "    }\n",
              "\n",
              "    .dataframe tbody tr th {\n",
              "        vertical-align: top;\n",
              "    }\n",
              "\n",
              "    .dataframe thead th {\n",
              "        text-align: right;\n",
              "    }\n",
              "</style>\n",
              "<table border=\"1\" class=\"dataframe\">\n",
              "  <thead>\n",
              "    <tr style=\"text-align: right;\">\n",
              "      <th></th>\n",
              "      <th>title</th>\n",
              "      <th>rating</th>\n",
              "      <th>genres</th>\n",
              "    </tr>\n",
              "  </thead>\n",
              "  <tbody>\n",
              "    <tr>\n",
              "      <th>8091</th>\n",
              "      <td>Pulp Fiction (1994)</td>\n",
              "      <td>5.000</td>\n",
              "      <td>Comedy|Crime|Drama|Thriller</td>\n",
              "    </tr>\n",
              "    <tr>\n",
              "      <th>9052</th>\n",
              "      <td>Shawshank Redemption, The (1994)</td>\n",
              "      <td>5.000</td>\n",
              "      <td>Crime|Drama</td>\n",
              "    </tr>\n",
              "    <tr>\n",
              "      <th>26397</th>\n",
              "      <td>Star Wars: Episode VI - Return of the Jedi (1983)</td>\n",
              "      <td>5.000</td>\n",
              "      <td>Action|Adventure|Sci-Fi</td>\n",
              "    </tr>\n",
              "    <tr>\n",
              "      <th>39235</th>\n",
              "      <td>Saving Private Ryan (1998)</td>\n",
              "      <td>5.000</td>\n",
              "      <td>Action|Drama|War</td>\n",
              "    </tr>\n",
              "    <tr>\n",
              "      <th>42765</th>\n",
              "      <td>American History X (1998)</td>\n",
              "      <td>5.000</td>\n",
              "      <td>Crime|Drama</td>\n",
              "    </tr>\n",
              "    <tr>\n",
              "      <th>48374</th>\n",
              "      <td>Sixth Sense, The (1999)</td>\n",
              "      <td>5.000</td>\n",
              "      <td>Drama|Horror|Mystery</td>\n",
              "    </tr>\n",
              "    <tr>\n",
              "      <th>52626</th>\n",
              "      <td>Green Mile, The (1999)</td>\n",
              "      <td>5.000</td>\n",
              "      <td>Crime|Drama</td>\n",
              "    </tr>\n",
              "    <tr>\n",
              "      <th>56360</th>\n",
              "      <td>Gladiator (2000)</td>\n",
              "      <td>5.000</td>\n",
              "      <td>Action|Adventure|Drama</td>\n",
              "    </tr>\n",
              "    <tr>\n",
              "      <th>61550</th>\n",
              "      <td>Memento (2000)</td>\n",
              "      <td>5.000</td>\n",
              "      <td>Mystery|Thriller</td>\n",
              "    </tr>\n",
              "    <tr>\n",
              "      <th>66785</th>\n",
              "      <td>We Were Soldiers (2002)</td>\n",
              "      <td>5.000</td>\n",
              "      <td>Action|Drama|War</td>\n",
              "    </tr>\n",
              "    <tr>\n",
              "      <th>76290</th>\n",
              "      <td>Troy (2004)</td>\n",
              "      <td>5.000</td>\n",
              "      <td>Action|Adventure|Drama|War</td>\n",
              "    </tr>\n",
              "    <tr>\n",
              "      <th>77453</th>\n",
              "      <td>Notebook, The (2004)</td>\n",
              "      <td>5.000</td>\n",
              "      <td>Drama|Romance</td>\n",
              "    </tr>\n",
              "    <tr>\n",
              "      <th>83128</th>\n",
              "      <td>V for Vendetta (2006)</td>\n",
              "      <td>5.000</td>\n",
              "      <td>Action|Sci-Fi|Thriller|IMAX</td>\n",
              "    </tr>\n",
              "    <tr>\n",
              "      <th>85816</th>\n",
              "      <td>300 (2007)</td>\n",
              "      <td>5.000</td>\n",
              "      <td>Action|Fantasy|War|IMAX</td>\n",
              "    </tr>\n",
              "    <tr>\n",
              "      <th>88240</th>\n",
              "      <td>Dark Knight, The (2008)</td>\n",
              "      <td>5.000</td>\n",
              "      <td>Action|Crime|Drama|IMAX</td>\n",
              "    </tr>\n",
              "    <tr>\n",
              "      <th>90596</th>\n",
              "      <td>Star Trek (2009)</td>\n",
              "      <td>5.000</td>\n",
              "      <td>Action|Adventure|Sci-Fi|IMAX</td>\n",
              "    </tr>\n",
              "    <tr>\n",
              "      <th>91123</th>\n",
              "      <td>(500) Days of Summer (2009)</td>\n",
              "      <td>5.000</td>\n",
              "      <td>Comedy|Drama|Romance</td>\n",
              "    </tr>\n",
              "    <tr>\n",
              "      <th>92694</th>\n",
              "      <td>Toy Story 3 (2010)</td>\n",
              "      <td>5.000</td>\n",
              "      <td>Adventure|Animation|Children|Comedy|Fantasy|IMAX</td>\n",
              "    </tr>\n",
              "    <tr>\n",
              "      <th>92878</th>\n",
              "      <td>Inception (2010)</td>\n",
              "      <td>5.000</td>\n",
              "      <td>Action|Crime|Drama|Mystery|Sci-Fi|Thriller|IMAX</td>\n",
              "    </tr>\n",
              "    <tr>\n",
              "      <th>93505</th>\n",
              "      <td>Black Swan (2010)</td>\n",
              "      <td>5.000</td>\n",
              "      <td>Drama|Thriller</td>\n",
              "    </tr>\n",
              "  </tbody>\n",
              "</table>\n",
              "</div>"
            ],
            "text/plain": [
              "                                                   title  rating  \\\n",
              "8091                                 Pulp Fiction (1994)   5.000   \n",
              "9052                    Shawshank Redemption, The (1994)   5.000   \n",
              "26397  Star Wars: Episode VI - Return of the Jedi (1983)   5.000   \n",
              "39235                         Saving Private Ryan (1998)   5.000   \n",
              "42765                          American History X (1998)   5.000   \n",
              "48374                            Sixth Sense, The (1999)   5.000   \n",
              "52626                             Green Mile, The (1999)   5.000   \n",
              "56360                                   Gladiator (2000)   5.000   \n",
              "61550                                     Memento (2000)   5.000   \n",
              "66785                            We Were Soldiers (2002)   5.000   \n",
              "76290                                        Troy (2004)   5.000   \n",
              "77453                               Notebook, The (2004)   5.000   \n",
              "83128                              V for Vendetta (2006)   5.000   \n",
              "85816                                         300 (2007)   5.000   \n",
              "88240                            Dark Knight, The (2008)   5.000   \n",
              "90596                                   Star Trek (2009)   5.000   \n",
              "91123                        (500) Days of Summer (2009)   5.000   \n",
              "92694                                 Toy Story 3 (2010)   5.000   \n",
              "92878                                   Inception (2010)   5.000   \n",
              "93505                                  Black Swan (2010)   5.000   \n",
              "\n",
              "                                                 genres  \n",
              "8091                        Comedy|Crime|Drama|Thriller  \n",
              "9052                                        Crime|Drama  \n",
              "26397                           Action|Adventure|Sci-Fi  \n",
              "39235                                  Action|Drama|War  \n",
              "42765                                       Crime|Drama  \n",
              "48374                              Drama|Horror|Mystery  \n",
              "52626                                       Crime|Drama  \n",
              "56360                            Action|Adventure|Drama  \n",
              "61550                                  Mystery|Thriller  \n",
              "66785                                  Action|Drama|War  \n",
              "76290                        Action|Adventure|Drama|War  \n",
              "77453                                     Drama|Romance  \n",
              "83128                       Action|Sci-Fi|Thriller|IMAX  \n",
              "85816                           Action|Fantasy|War|IMAX  \n",
              "88240                           Action|Crime|Drama|IMAX  \n",
              "90596                      Action|Adventure|Sci-Fi|IMAX  \n",
              "91123                              Comedy|Drama|Romance  \n",
              "92694  Adventure|Animation|Children|Comedy|Fantasy|IMAX  \n",
              "92878   Action|Crime|Drama|Mystery|Sci-Fi|Thriller|IMAX  \n",
              "93505                                    Drama|Thriller  "
            ]
          },
          "metadata": {
            "tags": []
          },
          "execution_count": 53
        }
      ]
    },
    {
      "cell_type": "code",
      "metadata": {
        "id": "RXN_fP9mtzXr",
        "colab_type": "code",
        "colab": {}
      },
      "source": [
        "user232_rec = user_Recs.filter(user_Recs.userId==232)"
      ],
      "execution_count": null,
      "outputs": []
    },
    {
      "cell_type": "code",
      "metadata": {
        "id": "iW5GRUccuE44",
        "colab_type": "code",
        "colab": {
          "base_uri": "https://localhost:8080/",
          "height": 363
        },
        "outputId": "9fc20c55-685a-4112-ac17-afa76e11e9c8"
      },
      "source": [
        "get_rec_for_user(user232_rec)"
      ],
      "execution_count": null,
      "outputs": [
        {
          "output_type": "execute_result",
          "data": {
            "text/html": [
              "<div>\n",
              "<style scoped>\n",
              "    .dataframe tbody tr th:only-of-type {\n",
              "        vertical-align: middle;\n",
              "    }\n",
              "\n",
              "    .dataframe tbody tr th {\n",
              "        vertical-align: top;\n",
              "    }\n",
              "\n",
              "    .dataframe thead th {\n",
              "        text-align: right;\n",
              "    }\n",
              "</style>\n",
              "<table border=\"1\" class=\"dataframe\">\n",
              "  <thead>\n",
              "    <tr style=\"text-align: right;\">\n",
              "      <th></th>\n",
              "      <th>movieId</th>\n",
              "      <th>ratings</th>\n",
              "      <th>title</th>\n",
              "      <th>genres</th>\n",
              "    </tr>\n",
              "  </thead>\n",
              "  <tbody>\n",
              "    <tr>\n",
              "      <th>0</th>\n",
              "      <td>3925</td>\n",
              "      <td>4.584</td>\n",
              "      <td>Stranger Than Paradise (1984)</td>\n",
              "      <td>Comedy|Drama</td>\n",
              "    </tr>\n",
              "    <tr>\n",
              "      <th>1</th>\n",
              "      <td>86237</td>\n",
              "      <td>4.583</td>\n",
              "      <td>Connections (1978)</td>\n",
              "      <td>Documentary</td>\n",
              "    </tr>\n",
              "    <tr>\n",
              "      <th>2</th>\n",
              "      <td>74226</td>\n",
              "      <td>4.583</td>\n",
              "      <td>Dream of Light (a.k.a. Quince Tree Sun, The) (Sol del membrillo, El) (1992)</td>\n",
              "      <td>Documentary|Drama</td>\n",
              "    </tr>\n",
              "    <tr>\n",
              "      <th>3</th>\n",
              "      <td>138966</td>\n",
              "      <td>4.583</td>\n",
              "      <td>Nasu: Summer in Andalusia (2003)</td>\n",
              "      <td>Animation</td>\n",
              "    </tr>\n",
              "    <tr>\n",
              "      <th>4</th>\n",
              "      <td>84273</td>\n",
              "      <td>4.583</td>\n",
              "      <td>Zeitgeist: Moving Forward (2011)</td>\n",
              "      <td>Documentary</td>\n",
              "    </tr>\n",
              "    <tr>\n",
              "      <th>5</th>\n",
              "      <td>179135</td>\n",
              "      <td>4.583</td>\n",
              "      <td>Blue Planet II (2017)</td>\n",
              "      <td>Documentary</td>\n",
              "    </tr>\n",
              "    <tr>\n",
              "      <th>6</th>\n",
              "      <td>134796</td>\n",
              "      <td>4.583</td>\n",
              "      <td>Bitter Lake (2015)</td>\n",
              "      <td>Documentary</td>\n",
              "    </tr>\n",
              "    <tr>\n",
              "      <th>7</th>\n",
              "      <td>7071</td>\n",
              "      <td>4.583</td>\n",
              "      <td>Woman Under the Influence, A (1974)</td>\n",
              "      <td>Drama</td>\n",
              "    </tr>\n",
              "    <tr>\n",
              "      <th>8</th>\n",
              "      <td>117531</td>\n",
              "      <td>4.583</td>\n",
              "      <td>Watermark (2014)</td>\n",
              "      <td>Documentary</td>\n",
              "    </tr>\n",
              "    <tr>\n",
              "      <th>9</th>\n",
              "      <td>26928</td>\n",
              "      <td>4.583</td>\n",
              "      <td>Summer's Tale, A (Conte d'été) (1996)</td>\n",
              "      <td>Comedy|Drama|Romance</td>\n",
              "    </tr>\n",
              "  </tbody>\n",
              "</table>\n",
              "</div>"
            ],
            "text/plain": [
              "   movieId  ratings  \\\n",
              "0     3925    4.584   \n",
              "1    86237    4.583   \n",
              "2    74226    4.583   \n",
              "3   138966    4.583   \n",
              "4    84273    4.583   \n",
              "5   179135    4.583   \n",
              "6   134796    4.583   \n",
              "7     7071    4.583   \n",
              "8   117531    4.583   \n",
              "9    26928    4.583   \n",
              "\n",
              "                                                                         title  \\\n",
              "0                                                Stranger Than Paradise (1984)   \n",
              "1                                                           Connections (1978)   \n",
              "2  Dream of Light (a.k.a. Quince Tree Sun, The) (Sol del membrillo, El) (1992)   \n",
              "3                                             Nasu: Summer in Andalusia (2003)   \n",
              "4                                             Zeitgeist: Moving Forward (2011)   \n",
              "5                                                        Blue Planet II (2017)   \n",
              "6                                                           Bitter Lake (2015)   \n",
              "7                                          Woman Under the Influence, A (1974)   \n",
              "8                                                             Watermark (2014)   \n",
              "9                                        Summer's Tale, A (Conte d'été) (1996)   \n",
              "\n",
              "                 genres  \n",
              "0          Comedy|Drama  \n",
              "1           Documentary  \n",
              "2     Documentary|Drama  \n",
              "3             Animation  \n",
              "4           Documentary  \n",
              "5           Documentary  \n",
              "6           Documentary  \n",
              "7                 Drama  \n",
              "8           Documentary  \n",
              "9  Comedy|Drama|Romance  "
            ]
          },
          "metadata": {
            "tags": []
          },
          "execution_count": 55
        }
      ]
    },
    {
      "cell_type": "markdown",
      "metadata": {
        "id": "5vPcAIREjR5K",
        "colab_type": "text"
      },
      "source": [
        "# Find the similar moives for moive with id: 463, 471\n",
        "## You can find the similar moives based on the ALS results"
      ]
    },
    {
      "cell_type": "code",
      "metadata": {
        "id": "x23TzT6GkgMK",
        "colab_type": "code",
        "colab": {}
      },
      "source": [
        "als = ALS(maxIter=5, rank=16, regParam=0.1, userCol=\"userId\", itemCol=\"movieId\", ratingCol=\"rating\",\n",
        "          coldStartStrategy=\"drop\", nonnegative = True)\n",
        "model_als = als.fit(training)"
      ],
      "execution_count": null,
      "outputs": []
    },
    {
      "cell_type": "code",
      "metadata": {
        "id": "_6JN_d0JjPp3",
        "colab_type": "code",
        "colab": {}
      },
      "source": [
        "#get the item features and turn to \n",
        "item_features = model_als.itemFactors\n",
        "item_features_df = item_features.toPandas()"
      ],
      "execution_count": null,
      "outputs": []
    },
    {
      "cell_type": "code",
      "metadata": {
        "id": "pamQfUjhsl-s",
        "colab_type": "code",
        "colab": {
          "base_uri": "https://localhost:8080/",
          "height": 503
        },
        "outputId": "56998120-9083-458f-891c-e8ba16e711c7"
      },
      "source": [
        "item_features.show()"
      ],
      "execution_count": null,
      "outputs": [
        {
          "output_type": "stream",
          "text": [
            "+---+--------------------+\n",
            "| id|            features|\n",
            "+---+--------------------+\n",
            "| 10|[0.21949627, 0.62...|\n",
            "| 20|[0.21646729, 0.79...|\n",
            "| 30|[0.75904375, 0.0,...|\n",
            "| 40|[0.40602213, 0.63...|\n",
            "| 50|[0.49712536, 0.70...|\n",
            "| 60|[0.24679609, 0.30...|\n",
            "| 70|[0.90697926, 0.97...|\n",
            "| 80|[0.51616156, 0.58...|\n",
            "|100|[0.23431821, 0.51...|\n",
            "|110|[0.4571069, 0.755...|\n",
            "|140|[0.27278, 0.39272...|\n",
            "|150|[0.5104057, 0.639...|\n",
            "|160|[0.27194703, 0.67...|\n",
            "|170|[0.13369885, 0.83...|\n",
            "|180|[0.5379878, 0.524...|\n",
            "|190|[0.23518513, 0.14...|\n",
            "|210|[0.10778442, 0.39...|\n",
            "|220|[0.47154355, 0.31...|\n",
            "|230|[0.0, 0.4111778, ...|\n",
            "|240|[0.42990988, 8.93...|\n",
            "+---+--------------------+\n",
            "only showing top 20 rows\n",
            "\n"
          ],
          "name": "stdout"
        }
      ]
    },
    {
      "cell_type": "code",
      "metadata": {
        "id": "Irqaibngm1To",
        "colab_type": "code",
        "colab": {}
      },
      "source": [
        "def recommend_similar_movie(id, k):\n",
        "  similarities = []\n",
        "  movie_feature = item_features_df[item_features_df['id'] == id]['features'].to_list()\n",
        "  for i in range(0, len(item_features_df['id'])):\n",
        "    temp = []\n",
        "    temp.append(i)\n",
        "    item_feature = item_features_df['features'][i]\n",
        "    # Calcualte the cos-similarity for each of the movie\n",
        "    similarity = np.dot(movie_feature, item_feature)/(np.linalg.norm(movie_feature) * np.linalg.norm(item_feature))\n",
        "    temp.append(similarity)\n",
        "    similarities.append(tuple(temp))\n",
        "  similarities.sort(key = lambda x: x[1], reverse=True)\n",
        "  rec_ids = []\n",
        "  j = 1\n",
        "  # generate top k recommendations\n",
        "  while j <= k:\n",
        "    rec_id = similarities[j][0]\n",
        "    rec_ids.append(rec_id)\n",
        "    j += 1\n",
        "  similar_movie = movies[movies.movieId.isin(rec_ids)]\n",
        "  return similar_movie\n"
      ],
      "execution_count": null,
      "outputs": []
    },
    {
      "cell_type": "code",
      "metadata": {
        "id": "47XXcEle11tV",
        "colab_type": "code",
        "colab": {
          "base_uri": "https://localhost:8080/",
          "height": 256
        },
        "outputId": "7677aeb5-7819-4936-d3f5-06c6679ea950"
      },
      "source": [
        "# Recomend similar movies for movieId: 464\n",
        "id_rol = movies[movies.movieId==464].index\n",
        "movie = movies.loc[movies.movieId == 464, 'title'].values[0]\n",
        "print('Similar Movies to {} is:'.format(movie))\n",
        "recommend_similar_movie(464,10)"
      ],
      "execution_count": null,
      "outputs": [
        {
          "output_type": "stream",
          "text": [
            "Similar Movies to Hard Target (1993) is:\n"
          ],
          "name": "stdout"
        },
        {
          "output_type": "execute_result",
          "data": {
            "text/html": [
              "<div>\n",
              "<style scoped>\n",
              "    .dataframe tbody tr th:only-of-type {\n",
              "        vertical-align: middle;\n",
              "    }\n",
              "\n",
              "    .dataframe tbody tr th {\n",
              "        vertical-align: top;\n",
              "    }\n",
              "\n",
              "    .dataframe thead th {\n",
              "        text-align: right;\n",
              "    }\n",
              "</style>\n",
              "<table border=\"1\" class=\"dataframe\">\n",
              "  <thead>\n",
              "    <tr style=\"text-align: right;\">\n",
              "      <th></th>\n",
              "      <th>movieId</th>\n",
              "      <th>title</th>\n",
              "      <th>genres</th>\n",
              "    </tr>\n",
              "  </thead>\n",
              "  <tbody>\n",
              "    <tr>\n",
              "      <th>772</th>\n",
              "      <td>1014</td>\n",
              "      <td>Pollyanna (1960)</td>\n",
              "      <td>Children|Comedy|Drama</td>\n",
              "    </tr>\n",
              "    <tr>\n",
              "      <th>1103</th>\n",
              "      <td>1432</td>\n",
              "      <td>Metro (1997)</td>\n",
              "      <td>Action|Comedy|Crime|Drama|Thriller</td>\n",
              "    </tr>\n",
              "    <tr>\n",
              "      <th>2885</th>\n",
              "      <td>3859</td>\n",
              "      <td>Eyes of Tammy Faye, The (2000)</td>\n",
              "      <td>Documentary</td>\n",
              "    </tr>\n",
              "    <tr>\n",
              "      <th>3174</th>\n",
              "      <td>4275</td>\n",
              "      <td>Krull (1983)</td>\n",
              "      <td>Action|Adventure|Fantasy|Sci-Fi</td>\n",
              "    </tr>\n",
              "    <tr>\n",
              "      <th>3390</th>\n",
              "      <td>4613</td>\n",
              "      <td>K-9 (1989)</td>\n",
              "      <td>Action|Comedy|Crime</td>\n",
              "    </tr>\n",
              "    <tr>\n",
              "      <th>5137</th>\n",
              "      <td>8236</td>\n",
              "      <td>While the City Sleeps (1956)</td>\n",
              "      <td>Drama|Film-Noir</td>\n",
              "    </tr>\n",
              "  </tbody>\n",
              "</table>\n",
              "</div>"
            ],
            "text/plain": [
              "      movieId                           title  \\\n",
              "772      1014                Pollyanna (1960)   \n",
              "1103     1432                    Metro (1997)   \n",
              "2885     3859  Eyes of Tammy Faye, The (2000)   \n",
              "3174     4275                    Krull (1983)   \n",
              "3390     4613                      K-9 (1989)   \n",
              "5137     8236    While the City Sleeps (1956)   \n",
              "\n",
              "                                  genres  \n",
              "772                Children|Comedy|Drama  \n",
              "1103  Action|Comedy|Crime|Drama|Thriller  \n",
              "2885                         Documentary  \n",
              "3174     Action|Adventure|Fantasy|Sci-Fi  \n",
              "3390                 Action|Comedy|Crime  \n",
              "5137                     Drama|Film-Noir  "
            ]
          },
          "metadata": {
            "tags": []
          },
          "execution_count": 204
        }
      ]
    },
    {
      "cell_type": "code",
      "metadata": {
        "id": "dY0oo-4-AMNR",
        "colab_type": "code",
        "colab": {
          "base_uri": "https://localhost:8080/",
          "height": 287
        },
        "outputId": "fe07f12d-a3b0-4d8a-fa69-56d3eccb270d"
      },
      "source": [
        "# Recomend similar movies for movieId: 471\n",
        "id_rol = movies[movies.movieId==471].index\n",
        "movie = movies.loc[movies.movieId == 471, 'title'].values[0]\n",
        "print('Similar Movies to {} is:'.format(movie))\n",
        "recommend_similar_movie(471,10)"
      ],
      "execution_count": null,
      "outputs": [
        {
          "output_type": "stream",
          "text": [
            "Similar Movies to Hudsucker Proxy, The (1994) is:\n"
          ],
          "name": "stdout"
        },
        {
          "output_type": "execute_result",
          "data": {
            "text/html": [
              "<div>\n",
              "<style scoped>\n",
              "    .dataframe tbody tr th:only-of-type {\n",
              "        vertical-align: middle;\n",
              "    }\n",
              "\n",
              "    .dataframe tbody tr th {\n",
              "        vertical-align: top;\n",
              "    }\n",
              "\n",
              "    .dataframe thead th {\n",
              "        text-align: right;\n",
              "    }\n",
              "</style>\n",
              "<table border=\"1\" class=\"dataframe\">\n",
              "  <thead>\n",
              "    <tr style=\"text-align: right;\">\n",
              "      <th></th>\n",
              "      <th>movieId</th>\n",
              "      <th>title</th>\n",
              "      <th>genres</th>\n",
              "    </tr>\n",
              "  </thead>\n",
              "  <tbody>\n",
              "    <tr>\n",
              "      <th>2882</th>\n",
              "      <td>3855</td>\n",
              "      <td>Affair of Love, An (Liaison pornographique, Une) (1999)</td>\n",
              "      <td>Drama|Romance</td>\n",
              "    </tr>\n",
              "    <tr>\n",
              "      <th>3518</th>\n",
              "      <td>4809</td>\n",
              "      <td>Silkwood (1983)</td>\n",
              "      <td>Drama</td>\n",
              "    </tr>\n",
              "    <tr>\n",
              "      <th>3859</th>\n",
              "      <td>5423</td>\n",
              "      <td>Gangster No. 1 (2000)</td>\n",
              "      <td>Action|Crime|Thriller</td>\n",
              "    </tr>\n",
              "    <tr>\n",
              "      <th>3917</th>\n",
              "      <td>5504</td>\n",
              "      <td>Spy Kids 2: The Island of Lost Dreams (2002)</td>\n",
              "      <td>Adventure|Children</td>\n",
              "    </tr>\n",
              "    <tr>\n",
              "      <th>4100</th>\n",
              "      <td>5876</td>\n",
              "      <td>Quiet American, The (2002)</td>\n",
              "      <td>Drama|Thriller|War</td>\n",
              "    </tr>\n",
              "    <tr>\n",
              "      <th>4617</th>\n",
              "      <td>6880</td>\n",
              "      <td>Texas Chainsaw Massacre, The (2003)</td>\n",
              "      <td>Horror</td>\n",
              "    </tr>\n",
              "    <tr>\n",
              "      <th>4770</th>\n",
              "      <td>7101</td>\n",
              "      <td>Doc Hollywood (1991)</td>\n",
              "      <td>Comedy|Romance</td>\n",
              "    </tr>\n",
              "  </tbody>\n",
              "</table>\n",
              "</div>"
            ],
            "text/plain": [
              "      movieId                                                    title  \\\n",
              "2882     3855  Affair of Love, An (Liaison pornographique, Une) (1999)   \n",
              "3518     4809                                          Silkwood (1983)   \n",
              "3859     5423                                    Gangster No. 1 (2000)   \n",
              "3917     5504             Spy Kids 2: The Island of Lost Dreams (2002)   \n",
              "4100     5876                               Quiet American, The (2002)   \n",
              "4617     6880                      Texas Chainsaw Massacre, The (2003)   \n",
              "4770     7101                                     Doc Hollywood (1991)   \n",
              "\n",
              "                     genres  \n",
              "2882          Drama|Romance  \n",
              "3518                  Drama  \n",
              "3859  Action|Crime|Thriller  \n",
              "3917     Adventure|Children  \n",
              "4100     Drama|Thriller|War  \n",
              "4617                 Horror  \n",
              "4770         Comedy|Romance  "
            ]
          },
          "metadata": {
            "tags": []
          },
          "execution_count": 205
        }
      ]
    },
    {
      "cell_type": "markdown",
      "metadata": {
        "id": "0wZQgkaCkdSO",
        "colab_type": "text"
      },
      "source": [
        "# Write the report\n",
        "## Motivation\n",
        "### Using ALS algorithm to predict movies ratings and set up a recommendation system to push movies to each user\n"
      ]
    },
    {
      "cell_type": "markdown",
      "metadata": {
        "id": "r_SDl1F3lgxI",
        "colab_type": "text"
      },
      "source": [
        "## Step 1: Data ETL and Data Exploration Analysis\n",
        "### Get to know the data sets. Acknowledge the general information."
      ]
    },
    {
      "cell_type": "markdown",
      "metadata": {
        "id": "UC-s-bYJmEv3",
        "colab_type": "text"
      },
      "source": [
        "## Step 2: Training the ALS recommendation Model\n",
        "### Used CrossValidation methods to mind the best parameters for the model. Use RMSE to determine which one outperforms the others. Here are the metrics:\n",
        "#### RMSE = 0.8775583955068894\n",
        "#### Rank:8\n",
        "#### MaxIter:5\n",
        "#### RegParam:0.1"
      ]
    },
    {
      "cell_type": "markdown",
      "metadata": {
        "id": "UNKujfqEGS_E",
        "colab_type": "text"
      },
      "source": [
        "# Step 3: Use the best model to predict top 10 movies baed on users and item, seperately. "
      ]
    },
    {
      "cell_type": "markdown",
      "metadata": {
        "id": "LXmQTvk5G16S",
        "colab_type": "text"
      },
      "source": [
        "# Step 4: Conclusion: \n",
        "### 1. The item based recommendation is more robust than user based. It is because users are more complicated than item. Users can have different tastes or even changeable. \n",
        "### 2. When recommendation similar movies, I used cosine similarity on item-features. It seems better than KNN, which tend to recommend top popular movies to every one. \n"
      ]
    },
    {
      "cell_type": "code",
      "metadata": {
        "id": "UhsK21W9lKa5",
        "colab_type": "code",
        "colab": {}
      },
      "source": [
        ""
      ],
      "execution_count": null,
      "outputs": []
    }
  ]
}